{
  "nbformat": 4,
  "nbformat_minor": 0,
  "metadata": {
    "colab": {
      "name": "02-insurance-linear_regression.ipynb",
      "provenance": [],
      "collapsed_sections": []
    },
    "kernelspec": {
      "display_name": "Python 3",
      "language": "python",
      "name": "python3"
    },
    "language_info": {
      "codemirror_mode": {
        "name": "ipython",
        "version": 3
      },
      "file_extension": ".py",
      "mimetype": "text/x-python",
      "name": "python",
      "nbconvert_exporter": "python",
      "pygments_lexer": "ipython3",
      "version": "3.8.5"
    }
  },
  "cells": [
    {
      "cell_type": "code",
      "metadata": {
        "id": "lp4WaektE-fX"
      },
      "source": [
        "import torch\n",
        "import jovian\n",
        "import torchvision\n",
        "import torch.nn as nn\n",
        "import pandas as pd\n",
        "import matplotlib.pyplot as plt\n",
        "import torch.nn.functional as F\n",
        "from torchvision.datasets.utils import download_url\n",
        "from torch.utils.data import DataLoader, TensorDataset, random_split"
      ],
      "execution_count": null,
      "outputs": []
    },
    {
      "cell_type": "markdown",
      "metadata": {
        "id": "Qvx-AmH2E-fY"
      },
      "source": [
        "## Step 1: Download and explore the data\n",
        "\n",
        "Let us begin by downloading the data. We'll use the `download_url` function from PyTorch to get the data as a CSV (comma-separated values) file. "
      ]
    },
    {
      "cell_type": "code",
      "metadata": {
        "_cell_guid": "79c7e3d0-c299-4dcb-8224-4455121ee9b0",
        "_uuid": "d629ff2d2480ee46fbb7e2d37f6b5fab8052498a",
        "colab": {
          "base_uri": "https://localhost:8080/"
        },
        "id": "qq9KFAZZE-fZ",
        "outputId": "ee60b1ae-4ce6-49a3-a446-87792728f727"
      },
      "source": [
        "DATASET_URL = \"https://hub.jovian.ml/wp-content/uploads/2020/05/insurance.csv\"\n",
        "DATA_FILENAME = \"insurance.csv\"\n",
        "download_url(DATASET_URL, '.')"
      ],
      "execution_count": null,
      "outputs": [
        {
          "output_type": "stream",
          "text": [
            "Using downloaded and verified file: ./insurance.csv\n"
          ],
          "name": "stdout"
        }
      ]
    },
    {
      "cell_type": "markdown",
      "metadata": {
        "id": "pOjFjuyGE-fa"
      },
      "source": [
        "To load the dataset into memory, we'll use the `read_csv` function from the `pandas` library. The data will be loaded as a Pandas dataframe. See this short tutorial to learn more: https://data36.com/pandas-tutorial-1-basics-reading-data-files-dataframes-data-selection/"
      ]
    },
    {
      "cell_type": "code",
      "metadata": {
        "colab": {
          "base_uri": "https://localhost:8080/",
          "height": 194
        },
        "id": "pAYByKpqE-fb",
        "outputId": "c7762e75-d8fd-4588-ccd9-4cfc75330ea7"
      },
      "source": [
        "dataframe_raw = pd.read_csv(DATA_FILENAME)\n",
        "dataframe_raw.head()"
      ],
      "execution_count": null,
      "outputs": [
        {
          "output_type": "execute_result",
          "data": {
            "text/html": [
              "<div>\n",
              "<style scoped>\n",
              "    .dataframe tbody tr th:only-of-type {\n",
              "        vertical-align: middle;\n",
              "    }\n",
              "\n",
              "    .dataframe tbody tr th {\n",
              "        vertical-align: top;\n",
              "    }\n",
              "\n",
              "    .dataframe thead th {\n",
              "        text-align: right;\n",
              "    }\n",
              "</style>\n",
              "<table border=\"1\" class=\"dataframe\">\n",
              "  <thead>\n",
              "    <tr style=\"text-align: right;\">\n",
              "      <th></th>\n",
              "      <th>age</th>\n",
              "      <th>sex</th>\n",
              "      <th>bmi</th>\n",
              "      <th>children</th>\n",
              "      <th>smoker</th>\n",
              "      <th>region</th>\n",
              "      <th>charges</th>\n",
              "    </tr>\n",
              "  </thead>\n",
              "  <tbody>\n",
              "    <tr>\n",
              "      <th>0</th>\n",
              "      <td>19</td>\n",
              "      <td>female</td>\n",
              "      <td>27.900</td>\n",
              "      <td>0</td>\n",
              "      <td>yes</td>\n",
              "      <td>southwest</td>\n",
              "      <td>16884.92400</td>\n",
              "    </tr>\n",
              "    <tr>\n",
              "      <th>1</th>\n",
              "      <td>18</td>\n",
              "      <td>male</td>\n",
              "      <td>33.770</td>\n",
              "      <td>1</td>\n",
              "      <td>no</td>\n",
              "      <td>southeast</td>\n",
              "      <td>1725.55230</td>\n",
              "    </tr>\n",
              "    <tr>\n",
              "      <th>2</th>\n",
              "      <td>28</td>\n",
              "      <td>male</td>\n",
              "      <td>33.000</td>\n",
              "      <td>3</td>\n",
              "      <td>no</td>\n",
              "      <td>southeast</td>\n",
              "      <td>4449.46200</td>\n",
              "    </tr>\n",
              "    <tr>\n",
              "      <th>3</th>\n",
              "      <td>33</td>\n",
              "      <td>male</td>\n",
              "      <td>22.705</td>\n",
              "      <td>0</td>\n",
              "      <td>no</td>\n",
              "      <td>northwest</td>\n",
              "      <td>21984.47061</td>\n",
              "    </tr>\n",
              "    <tr>\n",
              "      <th>4</th>\n",
              "      <td>32</td>\n",
              "      <td>male</td>\n",
              "      <td>28.880</td>\n",
              "      <td>0</td>\n",
              "      <td>no</td>\n",
              "      <td>northwest</td>\n",
              "      <td>3866.85520</td>\n",
              "    </tr>\n",
              "  </tbody>\n",
              "</table>\n",
              "</div>"
            ],
            "text/plain": [
              "   age     sex     bmi  children smoker     region      charges\n",
              "0   19  female  27.900         0    yes  southwest  16884.92400\n",
              "1   18    male  33.770         1     no  southeast   1725.55230\n",
              "2   28    male  33.000         3     no  southeast   4449.46200\n",
              "3   33    male  22.705         0     no  northwest  21984.47061\n",
              "4   32    male  28.880         0     no  northwest   3866.85520"
            ]
          },
          "metadata": {
            "tags": []
          },
          "execution_count": 109
        }
      ]
    },
    {
      "cell_type": "markdown",
      "metadata": {
        "id": "0wquBrxwE-fb"
      },
      "source": [
        "We're going to do a slight customization of the data, so that you every participant receives a slightly different version of the dataset. Fill in your name below as a string (enter at least 5 characters)"
      ]
    },
    {
      "cell_type": "code",
      "metadata": {
        "id": "IYEgr5LIE-fc"
      },
      "source": [
        "your_name = \"santha\" # at least 5 characters"
      ],
      "execution_count": null,
      "outputs": []
    },
    {
      "cell_type": "markdown",
      "metadata": {
        "id": "CAtN8OBWE-fc"
      },
      "source": [
        "The `customize_dataset` function will customize the dataset slightly using your name as a source of random numbers."
      ]
    },
    {
      "cell_type": "code",
      "metadata": {
        "id": "3-H8jIRRE-fd"
      },
      "source": [
        "def customize_dataset(dataframe_raw, rand_str):\n",
        "    dataframe = dataframe_raw.copy(deep=True)\n",
        "    # drop some rows\n",
        "    dataframe = dataframe.sample(int(0.95*len(dataframe)), random_state=int(ord(rand_str[0])))\n",
        "    # scale input\n",
        "    dataframe.bmi = dataframe.bmi * ord(rand_str[1])/100.\n",
        "    # scale target\n",
        "    dataframe.charges = dataframe.charges * ord(rand_str[2])/100.\n",
        "    # drop column\n",
        "    if ord(rand_str[3]) % 2 == 1:\n",
        "        dataframe = dataframe.drop(['region'], axis=1)\n",
        "    return dataframe"
      ],
      "execution_count": null,
      "outputs": []
    },
    {
      "cell_type": "code",
      "metadata": {
        "colab": {
          "base_uri": "https://localhost:8080/",
          "height": 194
        },
        "id": "FtG6zN79E-fd",
        "outputId": "944997d9-1a27-4ea2-a3d2-bab5489bea7f"
      },
      "source": [
        "dataframe = customize_dataset(dataframe_raw, your_name)\n",
        "dataframe.head()"
      ],
      "execution_count": null,
      "outputs": [
        {
          "output_type": "execute_result",
          "data": {
            "text/html": [
              "<div>\n",
              "<style scoped>\n",
              "    .dataframe tbody tr th:only-of-type {\n",
              "        vertical-align: middle;\n",
              "    }\n",
              "\n",
              "    .dataframe tbody tr th {\n",
              "        vertical-align: top;\n",
              "    }\n",
              "\n",
              "    .dataframe thead th {\n",
              "        text-align: right;\n",
              "    }\n",
              "</style>\n",
              "<table border=\"1\" class=\"dataframe\">\n",
              "  <thead>\n",
              "    <tr style=\"text-align: right;\">\n",
              "      <th></th>\n",
              "      <th>age</th>\n",
              "      <th>sex</th>\n",
              "      <th>bmi</th>\n",
              "      <th>children</th>\n",
              "      <th>smoker</th>\n",
              "      <th>region</th>\n",
              "      <th>charges</th>\n",
              "    </tr>\n",
              "  </thead>\n",
              "  <tbody>\n",
              "    <tr>\n",
              "      <th>1178</th>\n",
              "      <td>23</td>\n",
              "      <td>female</td>\n",
              "      <td>33.81905</td>\n",
              "      <td>0</td>\n",
              "      <td>no</td>\n",
              "      <td>northeast</td>\n",
              "      <td>3189.438285</td>\n",
              "    </tr>\n",
              "    <tr>\n",
              "      <th>1295</th>\n",
              "      <td>20</td>\n",
              "      <td>male</td>\n",
              "      <td>21.34000</td>\n",
              "      <td>1</td>\n",
              "      <td>no</td>\n",
              "      <td>southwest</td>\n",
              "      <td>2161.258000</td>\n",
              "    </tr>\n",
              "    <tr>\n",
              "      <th>205</th>\n",
              "      <td>28</td>\n",
              "      <td>female</td>\n",
              "      <td>28.01360</td>\n",
              "      <td>1</td>\n",
              "      <td>no</td>\n",
              "      <td>northeast</td>\n",
              "      <td>4771.508720</td>\n",
              "    </tr>\n",
              "    <tr>\n",
              "      <th>1067</th>\n",
              "      <td>39</td>\n",
              "      <td>male</td>\n",
              "      <td>41.37535</td>\n",
              "      <td>0</td>\n",
              "      <td>no</td>\n",
              "      <td>northeast</td>\n",
              "      <td>6333.154795</td>\n",
              "    </tr>\n",
              "    <tr>\n",
              "      <th>523</th>\n",
              "      <td>38</td>\n",
              "      <td>female</td>\n",
              "      <td>36.59810</td>\n",
              "      <td>0</td>\n",
              "      <td>no</td>\n",
              "      <td>southeast</td>\n",
              "      <td>5937.378370</td>\n",
              "    </tr>\n",
              "  </tbody>\n",
              "</table>\n",
              "</div>"
            ],
            "text/plain": [
              "      age     sex       bmi  children smoker     region      charges\n",
              "1178   23  female  33.81905         0     no  northeast  3189.438285\n",
              "1295   20    male  21.34000         1     no  southwest  2161.258000\n",
              "205    28  female  28.01360         1     no  northeast  4771.508720\n",
              "1067   39    male  41.37535         0     no  northeast  6333.154795\n",
              "523    38  female  36.59810         0     no  southeast  5937.378370"
            ]
          },
          "metadata": {
            "tags": []
          },
          "execution_count": 112
        }
      ]
    },
    {
      "cell_type": "markdown",
      "metadata": {
        "id": "gCvdPMFsE-fe"
      },
      "source": [
        "Let us answer some basic questions about the dataset. \n",
        "\n",
        "\n",
        "**Q: How many rows does the dataset have?**"
      ]
    },
    {
      "cell_type": "code",
      "metadata": {
        "colab": {
          "base_uri": "https://localhost:8080/"
        },
        "id": "AkeXddwIE-fe",
        "outputId": "2a7f3fd5-bce1-49fa-8b68-1ce10de9123c"
      },
      "source": [
        "num_rows = dataframe.shape[0]\n",
        "print(num_rows)"
      ],
      "execution_count": null,
      "outputs": [
        {
          "output_type": "stream",
          "text": [
            "1271\n"
          ],
          "name": "stdout"
        }
      ]
    },
    {
      "cell_type": "markdown",
      "metadata": {
        "id": "2vcFRnWRE-fe"
      },
      "source": [
        "**Q: How many columns doe the dataset have**"
      ]
    },
    {
      "cell_type": "code",
      "metadata": {
        "colab": {
          "base_uri": "https://localhost:8080/"
        },
        "id": "dfCelwJ0E-ff",
        "outputId": "b2018761-12b2-4ed5-a382-743ced99d49c"
      },
      "source": [
        "num_cols = dataframe.shape[1]\n",
        "print(num_cols)"
      ],
      "execution_count": null,
      "outputs": [
        {
          "output_type": "stream",
          "text": [
            "7\n"
          ],
          "name": "stdout"
        }
      ]
    },
    {
      "cell_type": "markdown",
      "metadata": {
        "id": "bjoPONQ8E-ff"
      },
      "source": [
        "**Q: What are the column titles of the input variables?**"
      ]
    },
    {
      "cell_type": "code",
      "metadata": {
        "colab": {
          "base_uri": "https://localhost:8080/"
        },
        "id": "2SPXGyyJE-ff",
        "outputId": "71291935-878d-412c-8c45-c562b6ad1270"
      },
      "source": [
        "input_cols = dataframe.columns.to_list()[0:-1]\r\n",
        "print(input_cols)"
      ],
      "execution_count": null,
      "outputs": [
        {
          "output_type": "stream",
          "text": [
            "['age', 'sex', 'bmi', 'children', 'smoker', 'region']\n"
          ],
          "name": "stdout"
        }
      ]
    },
    {
      "cell_type": "markdown",
      "metadata": {
        "id": "RUCtRTXZE-fg"
      },
      "source": [
        "**Q: Which of the input columns are non-numeric or categorial variables ?**\n",
        "\n",
        "Hint: `sex` is one of them. List the columns that are not numbers."
      ]
    },
    {
      "cell_type": "code",
      "metadata": {
        "colab": {
          "base_uri": "https://localhost:8080/"
        },
        "id": "gaUnjvJmHGXY",
        "outputId": "b289e887-ae04-4ad9-9304-65551d4f791a"
      },
      "source": [
        "dataframe.info()"
      ],
      "execution_count": null,
      "outputs": [
        {
          "output_type": "stream",
          "text": [
            "<class 'pandas.core.frame.DataFrame'>\n",
            "Int64Index: 1271 entries, 1178 to 604\n",
            "Data columns (total 7 columns):\n",
            " #   Column    Non-Null Count  Dtype  \n",
            "---  ------    --------------  -----  \n",
            " 0   age       1271 non-null   int64  \n",
            " 1   sex       1271 non-null   object \n",
            " 2   bmi       1271 non-null   float64\n",
            " 3   children  1271 non-null   int64  \n",
            " 4   smoker    1271 non-null   object \n",
            " 5   region    1271 non-null   object \n",
            " 6   charges   1271 non-null   float64\n",
            "dtypes: float64(2), int64(2), object(3)\n",
            "memory usage: 79.4+ KB\n"
          ],
          "name": "stdout"
        }
      ]
    },
    {
      "cell_type": "code",
      "metadata": {
        "colab": {
          "base_uri": "https://localhost:8080/",
          "height": 194
        },
        "id": "B6_RFnHMHTPd",
        "outputId": "e3d15f15-723c-4db4-9310-511f0e259e60"
      },
      "source": [
        "dataframe[[\"sex\",\"smoker\",\"region\"]].head(5)"
      ],
      "execution_count": null,
      "outputs": [
        {
          "output_type": "execute_result",
          "data": {
            "text/html": [
              "<div>\n",
              "<style scoped>\n",
              "    .dataframe tbody tr th:only-of-type {\n",
              "        vertical-align: middle;\n",
              "    }\n",
              "\n",
              "    .dataframe tbody tr th {\n",
              "        vertical-align: top;\n",
              "    }\n",
              "\n",
              "    .dataframe thead th {\n",
              "        text-align: right;\n",
              "    }\n",
              "</style>\n",
              "<table border=\"1\" class=\"dataframe\">\n",
              "  <thead>\n",
              "    <tr style=\"text-align: right;\">\n",
              "      <th></th>\n",
              "      <th>sex</th>\n",
              "      <th>smoker</th>\n",
              "      <th>region</th>\n",
              "    </tr>\n",
              "  </thead>\n",
              "  <tbody>\n",
              "    <tr>\n",
              "      <th>1178</th>\n",
              "      <td>female</td>\n",
              "      <td>no</td>\n",
              "      <td>northeast</td>\n",
              "    </tr>\n",
              "    <tr>\n",
              "      <th>1295</th>\n",
              "      <td>male</td>\n",
              "      <td>no</td>\n",
              "      <td>southwest</td>\n",
              "    </tr>\n",
              "    <tr>\n",
              "      <th>205</th>\n",
              "      <td>female</td>\n",
              "      <td>no</td>\n",
              "      <td>northeast</td>\n",
              "    </tr>\n",
              "    <tr>\n",
              "      <th>1067</th>\n",
              "      <td>male</td>\n",
              "      <td>no</td>\n",
              "      <td>northeast</td>\n",
              "    </tr>\n",
              "    <tr>\n",
              "      <th>523</th>\n",
              "      <td>female</td>\n",
              "      <td>no</td>\n",
              "      <td>southeast</td>\n",
              "    </tr>\n",
              "  </tbody>\n",
              "</table>\n",
              "</div>"
            ],
            "text/plain": [
              "         sex smoker     region\n",
              "1178  female     no  northeast\n",
              "1295    male     no  southwest\n",
              "205   female     no  northeast\n",
              "1067    male     no  northeast\n",
              "523   female     no  southeast"
            ]
          },
          "metadata": {
            "tags": []
          },
          "execution_count": 117
        }
      ]
    },
    {
      "cell_type": "code",
      "metadata": {
        "id": "avBg46H3E-fg"
      },
      "source": [
        "categorical_cols = [\"sex\",\"smoker\",\"region\"]"
      ],
      "execution_count": null,
      "outputs": []
    },
    {
      "cell_type": "markdown",
      "metadata": {
        "id": "g_ddb_qeE-fg"
      },
      "source": [
        "**Q: What are the column titles of output/target variable(s)?**"
      ]
    },
    {
      "cell_type": "code",
      "metadata": {
        "id": "0d20KalmE-fh"
      },
      "source": [
        "output_cols = [\"charges\"]"
      ],
      "execution_count": null,
      "outputs": []
    },
    {
      "cell_type": "markdown",
      "metadata": {
        "id": "spJcftGcE-fh"
      },
      "source": [
        "**Q: (Optional) What is the minimum, maximum and average value of the `charges` column? Can you show the distribution of values in a graph?**\n",
        "Use this data visualization cheatsheet for referece: https://jovian.ml/aakashns/dataviz-cheatsheet"
      ]
    },
    {
      "cell_type": "code",
      "metadata": {
        "colab": {
          "base_uri": "https://localhost:8080/"
        },
        "id": "-nzoW3BAI46m",
        "outputId": "fb789029-8164-4a22-dd40-9de4febdbab3"
      },
      "source": [
        "dataframe[\"charges\"].describe()"
      ],
      "execution_count": null,
      "outputs": [
        {
          "output_type": "execute_result",
          "data": {
            "text/plain": [
              "count     1271.000000\n",
              "mean     14647.332621\n",
              "std      13422.657623\n",
              "min       1234.061290\n",
              "25%       5201.902613\n",
              "50%      10356.412000\n",
              "75%      18240.352466\n",
              "max      70147.470811\n",
              "Name: charges, dtype: float64"
            ]
          },
          "metadata": {
            "tags": []
          },
          "execution_count": 120
        }
      ]
    },
    {
      "cell_type": "code",
      "metadata": {
        "id": "OYayxMmtE-fh"
      },
      "source": [
        "# Write your answer here\r\n",
        "# min = 1234.061290   ,max = 70147.470811 , Average = 14647.332621"
      ],
      "execution_count": null,
      "outputs": []
    },
    {
      "cell_type": "markdown",
      "metadata": {
        "id": "eEM5o9I7E-fi"
      },
      "source": [
        "Remember to commit your notebook to Jovian after every step, so that you don't lose your work."
      ]
    },
    {
      "cell_type": "markdown",
      "metadata": {
        "id": "HwdH6N7nE-fk"
      },
      "source": [
        "## Step 2: Prepare the dataset for training\n",
        "\n",
        "We need to convert the data from the Pandas dataframe into a PyTorch tensors for training. To do this, the first step is to convert it numpy arrays. If you've filled out `input_cols`, `categorial_cols` and `output_cols` correctly, this following function will perform the conversion to numpy arrays."
      ]
    },
    {
      "cell_type": "code",
      "metadata": {
        "id": "zcin7lxgE-fl"
      },
      "source": [
        "def dataframe_to_arrays(dataframe):\n",
        "    # Make a copy of the original dataframe\n",
        "    dataframe1 = dataframe.copy(deep=True)\n",
        "    # Convert non-numeric categorical columns to numbers\n",
        "    for col in categorical_cols:\n",
        "        dataframe1[col] = dataframe1[col].astype('category').cat.codes\n",
        "    # Extract input & outupts as numpy arrays\n",
        "    inputs_array = dataframe1[input_cols].to_numpy()\n",
        "    targets_array = dataframe1[output_cols].to_numpy()\n",
        "    return inputs_array, targets_array"
      ],
      "execution_count": null,
      "outputs": []
    },
    {
      "cell_type": "markdown",
      "metadata": {
        "id": "bAq_ssNoE-fm"
      },
      "source": [
        "Read through the [Pandas documentation](https://pandas.pydata.org/pandas-docs/stable/user_guide/categorical.html) to understand how we're converting categorical variables into numbers."
      ]
    },
    {
      "cell_type": "code",
      "metadata": {
        "colab": {
          "base_uri": "https://localhost:8080/"
        },
        "id": "nDgUdwFME-fm",
        "outputId": "ef16c4d2-68c1-46a3-8df2-f879b7ce0877"
      },
      "source": [
        "inputs_array, targets_array = dataframe_to_arrays(dataframe)\n",
        "inputs_array, targets_array"
      ],
      "execution_count": null,
      "outputs": [
        {
          "output_type": "execute_result",
          "data": {
            "text/plain": [
              "(array([[23.     ,  0.     , 33.81905,  0.     ,  0.     ,  0.     ],\n",
              "        [20.     ,  1.     , 21.34   ,  1.     ,  0.     ,  3.     ],\n",
              "        [28.     ,  0.     , 28.0136 ,  1.     ,  0.     ,  0.     ],\n",
              "        ...,\n",
              "        [53.     ,  0.     , 25.899  ,  2.     ,  0.     ,  3.     ],\n",
              "        [26.     ,  1.     , 26.2482 ,  0.     ,  1.     ,  2.     ],\n",
              "        [19.     ,  0.     , 27.4607 ,  0.     ,  1.     ,  1.     ]]),\n",
              " array([[ 3189.438285],\n",
              "        [ 2161.258   ],\n",
              "        [ 4771.50872 ],\n",
              "        ...,\n",
              "        [12265.858   ],\n",
              "        [18747.67554 ],\n",
              "        [19215.88229 ]]))"
            ]
          },
          "metadata": {
            "tags": []
          },
          "execution_count": 124
        }
      ]
    },
    {
      "cell_type": "markdown",
      "metadata": {
        "id": "gr_RivjDE-fn"
      },
      "source": [
        "**Q: Convert the numpy arrays `inputs_array` and `targets_array` into PyTorch tensors. Make sure that the data type is `torch.float32`.**"
      ]
    },
    {
      "cell_type": "code",
      "metadata": {
        "id": "is1WVCN2E-fn"
      },
      "source": [
        "inputs = torch.tensor(inputs_array,dtype=torch.float32)\n",
        "targets = torch.tensor(targets_array,dtype=torch.float32)"
      ],
      "execution_count": null,
      "outputs": []
    },
    {
      "cell_type": "code",
      "metadata": {
        "colab": {
          "base_uri": "https://localhost:8080/"
        },
        "id": "fKSYcqzQE-fn",
        "outputId": "8ad6a235-c52f-46cc-c6a5-ec3a2d01f900"
      },
      "source": [
        "inputs.dtype, targets.dtype"
      ],
      "execution_count": null,
      "outputs": [
        {
          "output_type": "execute_result",
          "data": {
            "text/plain": [
              "(torch.float32, torch.float32)"
            ]
          },
          "metadata": {
            "tags": []
          },
          "execution_count": 126
        }
      ]
    },
    {
      "cell_type": "markdown",
      "metadata": {
        "id": "zoSsiiLQE-fo"
      },
      "source": [
        "Next, we need to create PyTorch datasets & data loaders for training & validation. We'll start by creating a `TensorDataset`."
      ]
    },
    {
      "cell_type": "code",
      "metadata": {
        "id": "EtzAmADrE-fo"
      },
      "source": [
        "dataset = TensorDataset(inputs, targets)"
      ],
      "execution_count": null,
      "outputs": []
    },
    {
      "cell_type": "markdown",
      "metadata": {
        "id": "LMPhWOg7E-fo"
      },
      "source": [
        "**Q: Pick a number between `0.1` and `0.2` to determine the fraction of data that will be used for creating the validation set. Then use `random_split` to create training & validation datasets.**"
      ]
    },
    {
      "cell_type": "code",
      "metadata": {
        "id": "ca5jHwLbE-fp"
      },
      "source": [
        "val_percent = 0.18 # between 0.1 and 0.2\n",
        "val_size = int(num_rows * val_percent)\n",
        "train_size = num_rows - val_size\n",
        "\n",
        "\n",
        "train_ds, val_ds = random_split(dataset,[train_size,val_size]) # Use the random_split function to split dataset into 2 parts of the desired length"
      ],
      "execution_count": null,
      "outputs": []
    },
    {
      "cell_type": "markdown",
      "metadata": {
        "id": "X010uipbE-fp"
      },
      "source": [
        "Finally, we can create data loaders for training & validation.\n",
        "\n",
        "**Q: Pick a batch size for the data loader.**"
      ]
    },
    {
      "cell_type": "code",
      "metadata": {
        "id": "5bVdYBETE-fp"
      },
      "source": [
        "batch_size = 256"
      ],
      "execution_count": null,
      "outputs": []
    },
    {
      "cell_type": "code",
      "metadata": {
        "id": "r7vvMrIcE-fq"
      },
      "source": [
        "train_loader = DataLoader(train_ds, batch_size, shuffle=True)\n",
        "val_loader = DataLoader(val_ds, batch_size)"
      ],
      "execution_count": null,
      "outputs": []
    },
    {
      "cell_type": "markdown",
      "metadata": {
        "id": "f9Fr1R4IE-fq"
      },
      "source": [
        "Let's look at a batch of data to verify everything is working fine so far."
      ]
    },
    {
      "cell_type": "code",
      "metadata": {
        "colab": {
          "base_uri": "https://localhost:8080/"
        },
        "id": "-8bT04oiE-fq",
        "outputId": "cd3e7701-9d13-40ed-e37e-bc86ce309a7e"
      },
      "source": [
        "for xb, yb in train_loader:\n",
        "    print(\"inputs:\", xb)\n",
        "    print(\"targets:\", yb)\n",
        "    break"
      ],
      "execution_count": null,
      "outputs": [
        {
          "output_type": "stream",
          "text": [
            "inputs: tensor([[59.0000,  1.0000, 39.9058,  1.0000,  1.0000,  2.0000],\n",
            "        [23.0000,  0.0000, 27.6353,  1.0000,  1.0000,  2.0000],\n",
            "        [40.0000,  1.0000, 29.0030,  2.0000,  0.0000,  3.0000],\n",
            "        ...,\n",
            "        [27.0000,  0.0000, 17.4163,  2.0000,  1.0000,  0.0000],\n",
            "        [50.0000,  0.0000, 26.2628,  1.0000,  0.0000,  0.0000],\n",
            "        [38.0000,  0.0000, 39.3480,  1.0000,  0.0000,  1.0000]])\n",
            "targets: tensor([[53867.2734],\n",
            "        [20161.0625],\n",
            "        [ 7260.3970],\n",
            "        [ 7982.3955],\n",
            "        [11117.9424],\n",
            "        [12190.8350],\n",
            "        [ 6512.1147],\n",
            "        [ 6015.9072],\n",
            "        [38676.1484],\n",
            "        [ 5941.0786],\n",
            "        [ 4351.6787],\n",
            "        [48686.8242],\n",
            "        [12488.5508],\n",
            "        [37679.4570],\n",
            "        [39841.3477],\n",
            "        [13013.6680],\n",
            "        [ 3529.6658],\n",
            "        [22326.5488],\n",
            "        [12080.7510],\n",
            "        [ 8404.3398],\n",
            "        [ 2383.4053],\n",
            "        [ 1792.8169],\n",
            "        [20944.9629],\n",
            "        [13445.1885],\n",
            "        [11155.2500],\n",
            "        [39693.7422],\n",
            "        [ 5910.7007],\n",
            "        [ 4913.2837],\n",
            "        [ 6333.1548],\n",
            "        [ 3140.9812],\n",
            "        [ 2178.0769],\n",
            "        [21298.1992],\n",
            "        [13913.5742],\n",
            "        [ 7453.5571],\n",
            "        [13132.0820],\n",
            "        [ 6588.4761],\n",
            "        [14221.6699],\n",
            "        [ 9055.9023],\n",
            "        [33183.2812],\n",
            "        [45071.5820],\n",
            "        [ 4133.6294],\n",
            "        [14313.4297],\n",
            "        [14524.7139],\n",
            "        [ 1787.9772],\n",
            "        [ 9254.8096],\n",
            "        [18095.9844],\n",
            "        [12533.4717],\n",
            "        [10863.2480],\n",
            "        [14321.0771],\n",
            "        [11543.3408],\n",
            "        [10990.1416],\n",
            "        [ 2658.6504],\n",
            "        [ 3818.5505],\n",
            "        [12580.4121],\n",
            "        [ 9251.0518],\n",
            "        [11888.2354],\n",
            "        [ 8869.0400],\n",
            "        [12911.6338],\n",
            "        [42952.0117],\n",
            "        [ 9141.9229],\n",
            "        [16677.6875],\n",
            "        [ 4132.2837],\n",
            "        [ 7755.7061],\n",
            "        [ 1900.5635],\n",
            "        [ 5415.2075],\n",
            "        [15401.2471],\n",
            "        [ 1234.0613],\n",
            "        [ 2532.5300],\n",
            "        [ 8516.3203],\n",
            "        [48195.2539],\n",
            "        [27406.7422],\n",
            "        [ 1255.5896],\n",
            "        [10454.7412],\n",
            "        [50449.5273],\n",
            "        [16049.6953],\n",
            "        [10211.9180],\n",
            "        [18747.6758],\n",
            "        [ 4871.7769],\n",
            "        [ 2432.2439],\n",
            "        [20859.4883],\n",
            "        [ 3067.9631],\n",
            "        [ 4894.4082],\n",
            "        [ 1892.3890],\n",
            "        [48622.9180],\n",
            "        [13556.3301],\n",
            "        [ 2980.1685],\n",
            "        [ 4603.6079],\n",
            "        [13909.0479],\n",
            "        [10695.0469],\n",
            "        [ 8502.6104],\n",
            "        [ 7421.4170],\n",
            "        [18793.7949],\n",
            "        [11079.2607],\n",
            "        [ 7479.4038],\n",
            "        [18573.4160],\n",
            "        [15275.9248],\n",
            "        [50880.6250],\n",
            "        [ 1872.7008],\n",
            "        [18896.5508],\n",
            "        [13141.2881],\n",
            "        [ 4263.3076],\n",
            "        [11907.7793],\n",
            "        [ 7930.4409],\n",
            "        [13017.1602],\n",
            "        [ 8728.8203],\n",
            "        [15897.0186],\n",
            "        [42582.1016],\n",
            "        [ 2020.9607],\n",
            "        [11634.7959],\n",
            "        [10324.7773],\n",
            "        [ 4781.7256],\n",
            "        [12915.8984],\n",
            "        [ 7987.9150],\n",
            "        [ 4253.5405],\n",
            "        [12279.9248],\n",
            "        [37920.1250],\n",
            "        [ 6910.4585],\n",
            "        [ 3271.5386],\n",
            "        [ 4784.4082],\n",
            "        [23355.4004],\n",
            "        [ 9706.3848],\n",
            "        [44200.4688],\n",
            "        [20685.2285],\n",
            "        [23619.7266],\n",
            "        [20642.4629],\n",
            "        [14370.2715],\n",
            "        [68852.1641],\n",
            "        [ 5384.2285],\n",
            "        [35319.5273],\n",
            "        [49509.8516],\n",
            "        [19736.3164],\n",
            "        [52990.6953],\n",
            "        [52035.8359],\n",
            "        [40881.6797],\n",
            "        [10174.4443],\n",
            "        [ 2175.5964],\n",
            "        [43700.3750],\n",
            "        [ 2681.8608],\n",
            "        [ 6519.5308],\n",
            "        [ 8079.5923],\n",
            "        [66023.5391],\n",
            "        [ 4909.5254],\n",
            "        [14076.9307],\n",
            "        [38139.3633],\n",
            "        [13734.3809],\n",
            "        [19973.6641],\n",
            "        [ 2250.2537],\n",
            "        [ 4484.1465],\n",
            "        [14252.8301],\n",
            "        [15681.8125],\n",
            "        [10315.6953],\n",
            "        [ 8825.4492],\n",
            "        [10542.2822],\n",
            "        [ 4908.9941],\n",
            "        [20085.1367],\n",
            "        [ 4725.8984],\n",
            "        [12663.6455],\n",
            "        [ 9758.2666],\n",
            "        [ 5321.3403],\n",
            "        [ 9392.1172],\n",
            "        [46336.9688],\n",
            "        [16182.9180],\n",
            "        [51259.0195],\n",
            "        [ 9367.3350],\n",
            "        [26364.1211],\n",
            "        [ 6802.7295],\n",
            "        [ 3135.7522],\n",
            "        [ 4551.2749],\n",
            "        [30496.7168],\n",
            "        [15401.4150],\n",
            "        [ 4885.3345],\n",
            "        [42620.9922],\n",
            "        [ 5377.9404],\n",
            "        [50766.2383],\n",
            "        [ 7684.0576],\n",
            "        [38662.2812],\n",
            "        [ 5982.6240],\n",
            "        [28860.2383],\n",
            "        [10147.7822],\n",
            "        [ 5137.7041],\n",
            "        [ 7228.1270],\n",
            "        [39808.0117],\n",
            "        [28620.8457],\n",
            "        [11106.6670],\n",
            "        [13674.0488],\n",
            "        [ 5937.3784],\n",
            "        [13831.4541],\n",
            "        [ 5636.6074],\n",
            "        [13457.2109],\n",
            "        [18323.4883],\n",
            "        [ 6025.8403],\n",
            "        [ 1666.8794],\n",
            "        [ 5365.7793],\n",
            "        [ 6723.5884],\n",
            "        [45137.6445],\n",
            "        [ 1911.1136],\n",
            "        [13446.7861],\n",
            "        [14999.2021],\n",
            "        [ 9112.0488],\n",
            "        [ 1367.0977],\n",
            "        [10847.1279],\n",
            "        [20039.9766],\n",
            "        [14773.2910],\n",
            "        [ 1249.5348],\n",
            "        [13468.9844],\n",
            "        [ 7847.2930],\n",
            "        [ 4337.9551],\n",
            "        [ 7146.5747],\n",
            "        [41612.6953],\n",
            "        [ 9825.2920],\n",
            "        [ 1250.7122],\n",
            "        [13306.3164],\n",
            "        [ 2598.4519],\n",
            "        [44003.6641],\n",
            "        [39040.8047],\n",
            "        [10840.6445],\n",
            "        [11290.8867],\n",
            "        [ 5229.0005],\n",
            "        [ 5793.0020],\n",
            "        [ 9824.0283],\n",
            "        [13042.0527],\n",
            "        [ 8279.3770],\n",
            "        [ 1917.5354],\n",
            "        [14687.3096],\n",
            "        [15631.5898],\n",
            "        [ 7878.2134],\n",
            "        [ 8875.0039],\n",
            "        [ 6420.1724],\n",
            "        [25371.9629],\n",
            "        [20850.7422],\n",
            "        [10232.0830],\n",
            "        [14796.2344],\n",
            "        [ 4025.2805],\n",
            "        [36638.3047],\n",
            "        [ 2949.0442],\n",
            "        [ 4105.8877],\n",
            "        [12061.9902],\n",
            "        [ 5134.3687],\n",
            "        [25637.2012],\n",
            "        [15407.9443],\n",
            "        [ 6569.6157],\n",
            "        [ 2635.7056],\n",
            "        [14096.9893],\n",
            "        [12637.1484],\n",
            "        [12499.6113],\n",
            "        [45035.4141],\n",
            "        [10856.7910],\n",
            "        [30589.5977],\n",
            "        [44792.6055],\n",
            "        [ 4566.1313],\n",
            "        [53540.9141],\n",
            "        [ 5019.1265],\n",
            "        [ 6803.8530],\n",
            "        [16507.2383],\n",
            "        [11116.7480],\n",
            "        [ 7010.9131]])\n"
          ],
          "name": "stdout"
        }
      ]
    },
    {
      "cell_type": "markdown",
      "metadata": {
        "id": "zR7kHnsOE-fr"
      },
      "source": [
        "## Step 3: Create a Linear Regression Model\n",
        "\n",
        "Our model itself is a fairly straightforward linear regression (we'll build more complex models in the next assignment). \n"
      ]
    },
    {
      "cell_type": "code",
      "metadata": {
        "id": "d2KGJFSFE-fr"
      },
      "source": [
        "input_size = len(input_cols)\n",
        "output_size = len(output_cols)\n"
      ],
      "execution_count": null,
      "outputs": []
    },
    {
      "cell_type": "markdown",
      "metadata": {
        "id": "J6qCfK3IE-fs"
      },
      "source": [
        "**Q: Complete the class definition below by filling out the constructor (`__init__`), `forward`, `training_step` and `validation_step` methods.**\n",
        "\n",
        "Hint: Think carefully about picking a good loss fuction (it's not cross entropy). Maybe try 2-3 of them and see which one works best. See https://pytorch.org/docs/stable/nn.functional.html#loss-functions"
      ]
    },
    {
      "cell_type": "code",
      "metadata": {
        "id": "s6s78r02E-fs"
      },
      "source": [
        "class InsuranceModel(nn.Module):\n",
        "    def __init__(self):\n",
        "        super().__init__()\n",
        "        self.linear = nn.Linear(input_size,output_size)                 # fill this (hint: use input_size & output_size defined above)\n",
        "        \n",
        "    def forward(self, xb):\n",
        "        xb = xb.reshape(-1, input_size)\n",
        "        out = self.linear(xb)                          # fill this\n",
        "        return out\n",
        "    \n",
        "    def training_step(self, batch):\n",
        "        inputs, targets = batch \n",
        "        # Generate predictions\n",
        "        out = self(inputs)          \n",
        "        # Calcuate loss\n",
        "        loss = F.l1_loss(out, targets)                     # fill this\n",
        "        return loss\n",
        "    \n",
        "    def validation_step(self, batch):\n",
        "        inputs, targets = batch\n",
        "        # Generate predictions\n",
        "        out = self(inputs)\n",
        "        # Calculate loss\n",
        "        \n",
        "        loss = F.l1_loss(out,targets)                           # fill this    \n",
        "        return {'val_loss': loss.detach()}\n",
        "        \n",
        "    def validation_epoch_end(self, outputs):\n",
        "        batch_losses = [x['val_loss'] for x in outputs]\n",
        "        epoch_loss = torch.stack(batch_losses).mean()   # Combine losses\n",
        "        return {'val_loss': epoch_loss.item()}\n",
        "    \n",
        "    def epoch_end(self, epoch, result, num_epochs):\n",
        "        # Print result every 20th epoch\n",
        "        if (epoch+1) % 20 == 0 or epoch == num_epochs-1:\n",
        "            print(\"Epoch [{}], val_loss: {:.4f}\".format(epoch+1, result['val_loss']))"
      ],
      "execution_count": null,
      "outputs": []
    },
    {
      "cell_type": "markdown",
      "metadata": {
        "id": "YcOlQ57wE-fs"
      },
      "source": [
        "Let us create a model using the `InsuranceModel` class. You may need to come back later and re-run the next cell to reinitialize the model, in case the loss becomes `nan` or `infinity`."
      ]
    },
    {
      "cell_type": "code",
      "metadata": {
        "id": "SDxM5cboE-ft"
      },
      "source": [
        "model = InsuranceModel()"
      ],
      "execution_count": null,
      "outputs": []
    },
    {
      "cell_type": "markdown",
      "metadata": {
        "id": "kBohJtzZE-fu"
      },
      "source": [
        "Let's check out the weights and biases of the model using `model.parameters`."
      ]
    },
    {
      "cell_type": "code",
      "metadata": {
        "colab": {
          "base_uri": "https://localhost:8080/"
        },
        "id": "QHJh0-jqE-fu",
        "outputId": "72d7f47d-aacc-439e-8c03-006d7549881b"
      },
      "source": [
        "list(model.parameters())"
      ],
      "execution_count": null,
      "outputs": [
        {
          "output_type": "execute_result",
          "data": {
            "text/plain": [
              "[Parameter containing:\n",
              " tensor([[-0.3450, -0.2726,  0.3580, -0.3144,  0.2528, -0.0575]],\n",
              "        requires_grad=True), Parameter containing:\n",
              " tensor([0.1438], requires_grad=True)]"
            ]
          },
          "metadata": {
            "tags": []
          },
          "execution_count": 224
        }
      ]
    },
    {
      "cell_type": "markdown",
      "metadata": {
        "id": "b_PJckBqE-fv"
      },
      "source": [
        "One final commit before we train the model."
      ]
    },
    {
      "cell_type": "markdown",
      "metadata": {
        "id": "8yAf8LEqE-fw"
      },
      "source": [
        "## Step 4: Train the model to fit the data\n",
        "\n",
        "To train our model, we'll use the same `fit` function explained in the lecture. That's the benefit of defining a generic training loop - you can use it for any problem."
      ]
    },
    {
      "cell_type": "code",
      "metadata": {
        "id": "J_yjzDhJE-fx"
      },
      "source": [
        "def evaluate(model, val_loader):\n",
        "    outputs = [model.validation_step(batch) for batch in val_loader]\n",
        "    return model.validation_epoch_end(outputs)\n",
        "\n",
        "def fit(epochs, lr, model, train_loader, val_loader, opt_func=torch.optim.SGD):\n",
        "    history = []\n",
        "    optimizer = opt_func(model.parameters(), lr)\n",
        "    for epoch in range(epochs):\n",
        "        # Training Phase \n",
        "        for batch in train_loader:\n",
        "            loss = model.training_step(batch)\n",
        "            loss.backward()\n",
        "            optimizer.step()\n",
        "            optimizer.zero_grad()\n",
        "        # Validation phase\n",
        "        result = evaluate(model, val_loader)\n",
        "        model.epoch_end(epoch, result, epochs)\n",
        "        history.append(result)\n",
        "    return history"
      ],
      "execution_count": null,
      "outputs": []
    },
    {
      "cell_type": "markdown",
      "metadata": {
        "id": "GMLWoSm1E-fx"
      },
      "source": [
        "**Q: Use the `evaluate` function to calculate the loss on the validation set before training.**"
      ]
    },
    {
      "cell_type": "code",
      "metadata": {
        "colab": {
          "base_uri": "https://localhost:8080/"
        },
        "id": "MjdmZYIbE-fx",
        "outputId": "69675ea2-5009-4a70-e98b-7462f7b569c8"
      },
      "source": [
        "result = evaluate(model,val_loader) # Use the the evaluate function\n",
        "print(result)"
      ],
      "execution_count": null,
      "outputs": [
        {
          "output_type": "stream",
          "text": [
            "{'val_loss': 13587.1494140625}\n"
          ],
          "name": "stdout"
        }
      ]
    },
    {
      "cell_type": "markdown",
      "metadata": {
        "id": "GxC4YHPQE-fx"
      },
      "source": [
        "\n",
        "We are now ready to train the model. You may need to run the training loop many times, for different number of epochs and with different learning rates, to get a good result. Also, if your loss becomes too large (or `nan`), you may have to re-initialize the model by running the cell `model = InsuranceModel()`. Experiment with this for a while, and try to get to as low a loss as possible."
      ]
    },
    {
      "cell_type": "markdown",
      "metadata": {
        "id": "S3A9ndazE-fy"
      },
      "source": [
        "**Q: Train the model 4-5 times with different learning rates & for different number of epochs.**\n",
        "\n",
        "Hint: Vary learning rates by orders of 10 (e.g. `1e-2`, `1e-3`, `1e-4`, `1e-5`, `1e-6`) to figure out what works."
      ]
    },
    {
      "cell_type": "code",
      "metadata": {
        "colab": {
          "base_uri": "https://localhost:8080/"
        },
        "id": "krxVbDKjE-fy",
        "outputId": "e788a5bb-5f05-43d6-dcf8-bdc81f341346"
      },
      "source": [
        "epochs = 300\n",
        "lr = 1e-1\n",
        "history1 = fit(epochs, lr, model, train_loader, val_loader)"
      ],
      "execution_count": null,
      "outputs": [
        {
          "output_type": "stream",
          "text": [
            "Epoch [20], val_loss: 7164.4497\n",
            "Epoch [40], val_loss: 7038.7725\n",
            "Epoch [60], val_loss: 6914.0239\n",
            "Epoch [80], val_loss: 6796.0176\n",
            "Epoch [100], val_loss: 6693.2822\n",
            "Epoch [120], val_loss: 6618.9258\n",
            "Epoch [140], val_loss: 6561.0820\n",
            "Epoch [160], val_loss: 6531.3877\n",
            "Epoch [180], val_loss: 6514.2305\n",
            "Epoch [200], val_loss: 6503.4077\n",
            "Epoch [220], val_loss: 6492.8389\n",
            "Epoch [240], val_loss: 6496.9604\n",
            "Epoch [260], val_loss: 6488.2632\n",
            "Epoch [280], val_loss: 6485.9604\n",
            "Epoch [300], val_loss: 6482.3447\n"
          ],
          "name": "stdout"
        }
      ]
    },
    {
      "cell_type": "code",
      "metadata": {
        "colab": {
          "base_uri": "https://localhost:8080/"
        },
        "id": "UjsM3aBEE-fy",
        "outputId": "2a273bb1-0b67-411f-bc14-97ea7f59e0ce"
      },
      "source": [
        "epochs = 300\n",
        "lr = 1\n",
        "history2 = fit(epochs, lr, model, train_loader, val_loader)"
      ],
      "execution_count": null,
      "outputs": [
        {
          "output_type": "stream",
          "text": [
            "Epoch [20], val_loss: 6432.8652\n",
            "Epoch [40], val_loss: 6658.8120\n",
            "Epoch [60], val_loss: 6508.2471\n",
            "Epoch [80], val_loss: 6529.8521\n",
            "Epoch [100], val_loss: 6387.1650\n",
            "Epoch [120], val_loss: 6379.8784\n",
            "Epoch [140], val_loss: 6560.3511\n",
            "Epoch [160], val_loss: 6812.1826\n",
            "Epoch [180], val_loss: 6369.2964\n",
            "Epoch [200], val_loss: 6464.6357\n",
            "Epoch [220], val_loss: 6332.3418\n",
            "Epoch [240], val_loss: 6466.4790\n",
            "Epoch [260], val_loss: 6347.1401\n",
            "Epoch [280], val_loss: 6326.6104\n",
            "Epoch [300], val_loss: 6651.3301\n"
          ],
          "name": "stdout"
        }
      ]
    },
    {
      "cell_type": "code",
      "metadata": {
        "colab": {
          "base_uri": "https://localhost:8080/"
        },
        "id": "PL61bZ6zE-fy",
        "outputId": "8a72235a-bae7-41e8-80a1-f2ffebfede23"
      },
      "source": [
        "epochs = 1000\n",
        "lr = 2\n",
        "history3 = fit(epochs, lr, model, train_loader, val_loader)"
      ],
      "execution_count": null,
      "outputs": [
        {
          "output_type": "stream",
          "text": [
            "Epoch [20], val_loss: 7477.7974\n",
            "Epoch [40], val_loss: 6417.1709\n",
            "Epoch [60], val_loss: 6292.8882\n",
            "Epoch [80], val_loss: 6272.5508\n",
            "Epoch [100], val_loss: 6285.7285\n",
            "Epoch [120], val_loss: 6364.3716\n",
            "Epoch [140], val_loss: 6247.4336\n",
            "Epoch [160], val_loss: 6357.3672\n",
            "Epoch [180], val_loss: 7356.7485\n",
            "Epoch [200], val_loss: 6220.9077\n",
            "Epoch [220], val_loss: 6218.0493\n",
            "Epoch [240], val_loss: 6358.1636\n",
            "Epoch [260], val_loss: 7444.4526\n",
            "Epoch [280], val_loss: 6363.7563\n",
            "Epoch [300], val_loss: 6495.9062\n",
            "Epoch [320], val_loss: 6369.0537\n",
            "Epoch [340], val_loss: 6202.3062\n",
            "Epoch [360], val_loss: 6232.5371\n",
            "Epoch [380], val_loss: 6178.3804\n",
            "Epoch [400], val_loss: 6181.5117\n",
            "Epoch [420], val_loss: 6561.5542\n",
            "Epoch [440], val_loss: 6754.6738\n",
            "Epoch [460], val_loss: 6276.4951\n",
            "Epoch [480], val_loss: 7037.0977\n",
            "Epoch [500], val_loss: 6260.3789\n",
            "Epoch [520], val_loss: 6825.3569\n",
            "Epoch [540], val_loss: 6194.2222\n",
            "Epoch [560], val_loss: 6061.8833\n",
            "Epoch [580], val_loss: 6129.0498\n",
            "Epoch [600], val_loss: 6253.5142\n",
            "Epoch [620], val_loss: 6022.0098\n",
            "Epoch [640], val_loss: 6154.5562\n",
            "Epoch [660], val_loss: 6892.3159\n",
            "Epoch [680], val_loss: 7792.8955\n",
            "Epoch [700], val_loss: 6022.5298\n",
            "Epoch [720], val_loss: 6826.1113\n",
            "Epoch [740], val_loss: 7300.7607\n",
            "Epoch [760], val_loss: 6389.1265\n",
            "Epoch [780], val_loss: 5952.6128\n",
            "Epoch [800], val_loss: 7205.7534\n",
            "Epoch [820], val_loss: 5980.3125\n",
            "Epoch [840], val_loss: 6062.1558\n",
            "Epoch [860], val_loss: 5918.9287\n",
            "Epoch [880], val_loss: 5934.2563\n",
            "Epoch [900], val_loss: 7689.7554\n",
            "Epoch [920], val_loss: 6561.9536\n",
            "Epoch [940], val_loss: 5884.9102\n",
            "Epoch [960], val_loss: 5875.5146\n",
            "Epoch [980], val_loss: 6166.8169\n",
            "Epoch [1000], val_loss: 6588.4136\n"
          ],
          "name": "stdout"
        }
      ]
    },
    {
      "cell_type": "code",
      "metadata": {
        "colab": {
          "base_uri": "https://localhost:8080/"
        },
        "id": "0QzVxUuNE-fz",
        "outputId": "22906b61-69da-4562-c491-814f93089ad0"
      },
      "source": [
        "epochs = 10000\n",
        "lr = 1e-1\n",
        "history4 = fit(epochs, lr, model, train_loader, val_loader)"
      ],
      "execution_count": null,
      "outputs": [
        {
          "output_type": "stream",
          "text": [
            "Epoch [20], val_loss: 5854.9790\n",
            "Epoch [40], val_loss: 5853.3032\n",
            "Epoch [60], val_loss: 5854.7056\n",
            "Epoch [80], val_loss: 5849.8848\n",
            "Epoch [100], val_loss: 5852.9941\n",
            "Epoch [120], val_loss: 5849.8735\n",
            "Epoch [140], val_loss: 5848.9136\n",
            "Epoch [160], val_loss: 5849.2217\n",
            "Epoch [180], val_loss: 5846.6270\n",
            "Epoch [200], val_loss: 5846.3511\n",
            "Epoch [220], val_loss: 5846.0625\n",
            "Epoch [240], val_loss: 5856.0674\n",
            "Epoch [260], val_loss: 5847.3887\n",
            "Epoch [280], val_loss: 5845.3330\n",
            "Epoch [300], val_loss: 5844.1025\n",
            "Epoch [320], val_loss: 5844.1245\n",
            "Epoch [340], val_loss: 5843.3418\n",
            "Epoch [360], val_loss: 5841.7134\n",
            "Epoch [380], val_loss: 5842.3740\n",
            "Epoch [400], val_loss: 5841.7114\n",
            "Epoch [420], val_loss: 5847.5801\n",
            "Epoch [440], val_loss: 5840.5889\n",
            "Epoch [460], val_loss: 5840.1738\n",
            "Epoch [480], val_loss: 5839.1577\n",
            "Epoch [500], val_loss: 5838.4336\n",
            "Epoch [520], val_loss: 5841.7939\n",
            "Epoch [540], val_loss: 5839.4824\n",
            "Epoch [560], val_loss: 5838.4702\n",
            "Epoch [580], val_loss: 5839.4468\n",
            "Epoch [600], val_loss: 5838.0542\n",
            "Epoch [620], val_loss: 5836.4214\n",
            "Epoch [640], val_loss: 5836.7085\n",
            "Epoch [660], val_loss: 5834.6108\n",
            "Epoch [680], val_loss: 5834.9014\n",
            "Epoch [700], val_loss: 5834.7988\n",
            "Epoch [720], val_loss: 5834.4951\n",
            "Epoch [740], val_loss: 5833.7285\n",
            "Epoch [760], val_loss: 5833.1514\n",
            "Epoch [780], val_loss: 5833.9360\n",
            "Epoch [800], val_loss: 5831.9644\n",
            "Epoch [820], val_loss: 5830.8887\n",
            "Epoch [840], val_loss: 5830.8003\n",
            "Epoch [860], val_loss: 5831.1553\n",
            "Epoch [880], val_loss: 5829.9243\n",
            "Epoch [900], val_loss: 5829.2173\n",
            "Epoch [920], val_loss: 5832.0952\n",
            "Epoch [940], val_loss: 5828.9624\n",
            "Epoch [960], val_loss: 5830.0713\n",
            "Epoch [980], val_loss: 5829.0259\n",
            "Epoch [1000], val_loss: 5829.0044\n",
            "Epoch [1020], val_loss: 5827.0884\n",
            "Epoch [1040], val_loss: 5826.7520\n",
            "Epoch [1060], val_loss: 5826.6216\n",
            "Epoch [1080], val_loss: 5825.8184\n",
            "Epoch [1100], val_loss: 5826.7139\n",
            "Epoch [1120], val_loss: 5824.8286\n",
            "Epoch [1140], val_loss: 5825.0210\n",
            "Epoch [1160], val_loss: 5823.8389\n",
            "Epoch [1180], val_loss: 5824.2959\n",
            "Epoch [1200], val_loss: 5823.6074\n",
            "Epoch [1220], val_loss: 5822.6738\n",
            "Epoch [1240], val_loss: 5822.5464\n",
            "Epoch [1260], val_loss: 5822.6768\n",
            "Epoch [1280], val_loss: 5823.3159\n",
            "Epoch [1300], val_loss: 5821.9966\n",
            "Epoch [1320], val_loss: 5820.6875\n",
            "Epoch [1340], val_loss: 5821.9829\n",
            "Epoch [1360], val_loss: 5821.4985\n",
            "Epoch [1380], val_loss: 5818.5767\n",
            "Epoch [1400], val_loss: 5816.8813\n",
            "Epoch [1420], val_loss: 5817.8154\n",
            "Epoch [1440], val_loss: 5819.2920\n",
            "Epoch [1460], val_loss: 5820.1572\n",
            "Epoch [1480], val_loss: 5817.2490\n",
            "Epoch [1500], val_loss: 5816.3164\n",
            "Epoch [1520], val_loss: 5816.3062\n",
            "Epoch [1540], val_loss: 5815.1802\n",
            "Epoch [1560], val_loss: 5816.3223\n",
            "Epoch [1580], val_loss: 5817.8018\n",
            "Epoch [1600], val_loss: 5816.1064\n",
            "Epoch [1620], val_loss: 5813.3750\n",
            "Epoch [1640], val_loss: 5813.4185\n",
            "Epoch [1660], val_loss: 5811.4736\n",
            "Epoch [1680], val_loss: 5813.5498\n",
            "Epoch [1700], val_loss: 5811.0664\n",
            "Epoch [1720], val_loss: 5810.4517\n",
            "Epoch [1740], val_loss: 5809.7061\n",
            "Epoch [1760], val_loss: 5808.8423\n",
            "Epoch [1780], val_loss: 5808.7583\n",
            "Epoch [1800], val_loss: 5809.9302\n",
            "Epoch [1820], val_loss: 5812.2295\n",
            "Epoch [1840], val_loss: 5808.8770\n",
            "Epoch [1860], val_loss: 5807.5479\n",
            "Epoch [1880], val_loss: 5808.3687\n",
            "Epoch [1900], val_loss: 5807.8853\n",
            "Epoch [1920], val_loss: 5806.2979\n",
            "Epoch [1940], val_loss: 5805.7622\n",
            "Epoch [1960], val_loss: 5806.1372\n",
            "Epoch [1980], val_loss: 5804.2920\n",
            "Epoch [2000], val_loss: 5803.7827\n",
            "Epoch [2020], val_loss: 5803.5225\n",
            "Epoch [2040], val_loss: 5803.8706\n",
            "Epoch [2060], val_loss: 5802.4082\n",
            "Epoch [2080], val_loss: 5802.8315\n",
            "Epoch [2100], val_loss: 5803.2676\n",
            "Epoch [2120], val_loss: 5801.9165\n",
            "Epoch [2140], val_loss: 5800.9463\n",
            "Epoch [2160], val_loss: 5800.7271\n",
            "Epoch [2180], val_loss: 5800.1235\n",
            "Epoch [2200], val_loss: 5800.3784\n",
            "Epoch [2220], val_loss: 5799.3018\n",
            "Epoch [2240], val_loss: 5798.8135\n",
            "Epoch [2260], val_loss: 5802.8452\n",
            "Epoch [2280], val_loss: 5800.0015\n",
            "Epoch [2300], val_loss: 5797.3398\n",
            "Epoch [2320], val_loss: 5797.4180\n",
            "Epoch [2340], val_loss: 5797.2153\n",
            "Epoch [2360], val_loss: 5797.1758\n",
            "Epoch [2380], val_loss: 5795.7017\n",
            "Epoch [2400], val_loss: 5795.0361\n",
            "Epoch [2420], val_loss: 5795.5537\n",
            "Epoch [2440], val_loss: 5796.8799\n",
            "Epoch [2460], val_loss: 5793.5410\n",
            "Epoch [2480], val_loss: 5797.6484\n",
            "Epoch [2500], val_loss: 5793.2153\n",
            "Epoch [2520], val_loss: 5792.5942\n",
            "Epoch [2540], val_loss: 5790.9692\n",
            "Epoch [2560], val_loss: 5790.9238\n",
            "Epoch [2580], val_loss: 5791.7803\n",
            "Epoch [2600], val_loss: 5795.1758\n",
            "Epoch [2620], val_loss: 5791.8130\n",
            "Epoch [2640], val_loss: 5792.5562\n",
            "Epoch [2660], val_loss: 5789.8730\n",
            "Epoch [2680], val_loss: 5788.5562\n",
            "Epoch [2700], val_loss: 5787.5830\n",
            "Epoch [2720], val_loss: 5787.9028\n",
            "Epoch [2740], val_loss: 5790.5615\n",
            "Epoch [2760], val_loss: 5788.3188\n",
            "Epoch [2780], val_loss: 5786.8071\n",
            "Epoch [2800], val_loss: 5786.1509\n",
            "Epoch [2820], val_loss: 5786.1968\n",
            "Epoch [2840], val_loss: 5785.6938\n",
            "Epoch [2860], val_loss: 5787.6230\n",
            "Epoch [2880], val_loss: 5784.0083\n",
            "Epoch [2900], val_loss: 5784.0298\n",
            "Epoch [2920], val_loss: 5782.3335\n",
            "Epoch [2940], val_loss: 5782.9858\n",
            "Epoch [2960], val_loss: 5787.1445\n",
            "Epoch [2980], val_loss: 5782.8784\n",
            "Epoch [3000], val_loss: 5786.4922\n",
            "Epoch [3020], val_loss: 5781.2236\n",
            "Epoch [3040], val_loss: 5781.4502\n",
            "Epoch [3060], val_loss: 5779.9507\n",
            "Epoch [3080], val_loss: 5780.0332\n",
            "Epoch [3100], val_loss: 5782.9478\n",
            "Epoch [3120], val_loss: 5779.5503\n",
            "Epoch [3140], val_loss: 5777.8799\n",
            "Epoch [3160], val_loss: 5778.3242\n",
            "Epoch [3180], val_loss: 5778.0273\n",
            "Epoch [3200], val_loss: 5776.0547\n",
            "Epoch [3220], val_loss: 5777.2510\n",
            "Epoch [3240], val_loss: 5776.3286\n",
            "Epoch [3260], val_loss: 5776.4272\n",
            "Epoch [3280], val_loss: 5777.1216\n",
            "Epoch [3300], val_loss: 5774.5957\n",
            "Epoch [3320], val_loss: 5774.8213\n",
            "Epoch [3340], val_loss: 5774.4692\n",
            "Epoch [3360], val_loss: 5774.4009\n",
            "Epoch [3380], val_loss: 5780.7046\n",
            "Epoch [3400], val_loss: 5773.6592\n",
            "Epoch [3420], val_loss: 5776.0249\n",
            "Epoch [3440], val_loss: 5773.9614\n",
            "Epoch [3460], val_loss: 5770.0576\n",
            "Epoch [3480], val_loss: 5771.2876\n",
            "Epoch [3500], val_loss: 5770.2466\n",
            "Epoch [3520], val_loss: 5771.0884\n",
            "Epoch [3540], val_loss: 5769.3291\n",
            "Epoch [3560], val_loss: 5770.5332\n",
            "Epoch [3580], val_loss: 5769.0635\n",
            "Epoch [3600], val_loss: 5767.3916\n",
            "Epoch [3620], val_loss: 5767.6821\n",
            "Epoch [3640], val_loss: 5769.6714\n",
            "Epoch [3660], val_loss: 5765.9233\n",
            "Epoch [3680], val_loss: 5766.7383\n",
            "Epoch [3700], val_loss: 5765.0449\n",
            "Epoch [3720], val_loss: 5764.8467\n",
            "Epoch [3740], val_loss: 5764.0977\n",
            "Epoch [3760], val_loss: 5763.8848\n",
            "Epoch [3780], val_loss: 5764.3960\n",
            "Epoch [3800], val_loss: 5762.8198\n",
            "Epoch [3820], val_loss: 5762.5283\n",
            "Epoch [3840], val_loss: 5762.1558\n",
            "Epoch [3860], val_loss: 5761.6060\n",
            "Epoch [3880], val_loss: 5760.6460\n",
            "Epoch [3900], val_loss: 5763.3999\n",
            "Epoch [3920], val_loss: 5761.1255\n",
            "Epoch [3940], val_loss: 5759.3516\n",
            "Epoch [3960], val_loss: 5761.3804\n",
            "Epoch [3980], val_loss: 5760.3164\n",
            "Epoch [4000], val_loss: 5759.8188\n",
            "Epoch [4020], val_loss: 5756.0483\n",
            "Epoch [4040], val_loss: 5756.9707\n",
            "Epoch [4060], val_loss: 5755.8047\n",
            "Epoch [4080], val_loss: 5755.7681\n",
            "Epoch [4100], val_loss: 5760.9233\n",
            "Epoch [4120], val_loss: 5754.8979\n",
            "Epoch [4140], val_loss: 5755.2690\n",
            "Epoch [4160], val_loss: 5754.1245\n",
            "Epoch [4180], val_loss: 5757.5537\n",
            "Epoch [4200], val_loss: 5753.7754\n",
            "Epoch [4220], val_loss: 5753.7500\n",
            "Epoch [4240], val_loss: 5753.3472\n",
            "Epoch [4260], val_loss: 5752.0488\n",
            "Epoch [4280], val_loss: 5752.8115\n",
            "Epoch [4300], val_loss: 5752.2798\n",
            "Epoch [4320], val_loss: 5751.0718\n",
            "Epoch [4340], val_loss: 5751.5703\n",
            "Epoch [4360], val_loss: 5749.2607\n",
            "Epoch [4380], val_loss: 5750.3208\n",
            "Epoch [4400], val_loss: 5747.5879\n",
            "Epoch [4420], val_loss: 5749.0752\n",
            "Epoch [4440], val_loss: 5748.2705\n",
            "Epoch [4460], val_loss: 5747.1265\n",
            "Epoch [4480], val_loss: 5747.4805\n",
            "Epoch [4500], val_loss: 5749.2583\n",
            "Epoch [4520], val_loss: 5747.5952\n",
            "Epoch [4540], val_loss: 5745.2397\n",
            "Epoch [4560], val_loss: 5745.5625\n",
            "Epoch [4580], val_loss: 5745.9863\n",
            "Epoch [4600], val_loss: 5751.5752\n",
            "Epoch [4620], val_loss: 5744.9883\n",
            "Epoch [4640], val_loss: 5743.8794\n",
            "Epoch [4660], val_loss: 5743.4170\n",
            "Epoch [4680], val_loss: 5743.8833\n",
            "Epoch [4700], val_loss: 5740.9111\n",
            "Epoch [4720], val_loss: 5742.0386\n",
            "Epoch [4740], val_loss: 5741.2222\n",
            "Epoch [4760], val_loss: 5741.0884\n",
            "Epoch [4780], val_loss: 5739.4766\n",
            "Epoch [4800], val_loss: 5739.3389\n",
            "Epoch [4820], val_loss: 5739.0723\n",
            "Epoch [4840], val_loss: 5739.4893\n",
            "Epoch [4860], val_loss: 5738.5864\n",
            "Epoch [4880], val_loss: 5738.4673\n",
            "Epoch [4900], val_loss: 5741.7964\n",
            "Epoch [4920], val_loss: 5740.6431\n",
            "Epoch [4940], val_loss: 5736.8027\n",
            "Epoch [4960], val_loss: 5736.3564\n",
            "Epoch [4980], val_loss: 5735.4771\n",
            "Epoch [5000], val_loss: 5734.6348\n",
            "Epoch [5020], val_loss: 5735.1211\n",
            "Epoch [5040], val_loss: 5741.7378\n",
            "Epoch [5060], val_loss: 5734.2832\n",
            "Epoch [5080], val_loss: 5733.6885\n",
            "Epoch [5100], val_loss: 5739.7686\n",
            "Epoch [5120], val_loss: 5732.2852\n",
            "Epoch [5140], val_loss: 5731.2358\n",
            "Epoch [5160], val_loss: 5731.4839\n",
            "Epoch [5180], val_loss: 5733.2759\n",
            "Epoch [5200], val_loss: 5730.1865\n",
            "Epoch [5220], val_loss: 5731.5020\n",
            "Epoch [5240], val_loss: 5729.7451\n",
            "Epoch [5260], val_loss: 5730.7222\n",
            "Epoch [5280], val_loss: 5728.4268\n",
            "Epoch [5300], val_loss: 5730.5474\n",
            "Epoch [5320], val_loss: 5728.1025\n",
            "Epoch [5340], val_loss: 5728.5718\n",
            "Epoch [5360], val_loss: 5726.6021\n",
            "Epoch [5380], val_loss: 5727.2280\n",
            "Epoch [5400], val_loss: 5728.0908\n",
            "Epoch [5420], val_loss: 5726.6831\n",
            "Epoch [5440], val_loss: 5724.8696\n",
            "Epoch [5460], val_loss: 5724.6011\n",
            "Epoch [5480], val_loss: 5729.1445\n",
            "Epoch [5500], val_loss: 5725.7368\n",
            "Epoch [5520], val_loss: 5723.5488\n",
            "Epoch [5540], val_loss: 5723.5005\n",
            "Epoch [5560], val_loss: 5723.2886\n",
            "Epoch [5580], val_loss: 5721.9849\n",
            "Epoch [5600], val_loss: 5724.4688\n",
            "Epoch [5620], val_loss: 5722.0342\n",
            "Epoch [5640], val_loss: 5722.7998\n",
            "Epoch [5660], val_loss: 5720.9565\n",
            "Epoch [5680], val_loss: 5721.1187\n",
            "Epoch [5700], val_loss: 5720.6465\n",
            "Epoch [5720], val_loss: 5718.4819\n",
            "Epoch [5740], val_loss: 5718.4297\n",
            "Epoch [5760], val_loss: 5717.6553\n",
            "Epoch [5780], val_loss: 5717.5918\n",
            "Epoch [5800], val_loss: 5717.1143\n",
            "Epoch [5820], val_loss: 5716.9385\n",
            "Epoch [5840], val_loss: 5716.9106\n",
            "Epoch [5860], val_loss: 5715.9624\n",
            "Epoch [5880], val_loss: 5716.1177\n",
            "Epoch [5900], val_loss: 5717.8574\n",
            "Epoch [5920], val_loss: 5715.1567\n",
            "Epoch [5940], val_loss: 5714.8955\n",
            "Epoch [5960], val_loss: 5713.0332\n",
            "Epoch [5980], val_loss: 5712.1489\n",
            "Epoch [6000], val_loss: 5714.2349\n",
            "Epoch [6020], val_loss: 5711.3540\n",
            "Epoch [6040], val_loss: 5713.8472\n",
            "Epoch [6060], val_loss: 5711.1172\n",
            "Epoch [6080], val_loss: 5712.6602\n",
            "Epoch [6100], val_loss: 5709.5317\n",
            "Epoch [6120], val_loss: 5709.2007\n",
            "Epoch [6140], val_loss: 5708.6860\n",
            "Epoch [6160], val_loss: 5707.8931\n",
            "Epoch [6180], val_loss: 5708.7861\n",
            "Epoch [6200], val_loss: 5707.3267\n",
            "Epoch [6220], val_loss: 5711.3574\n",
            "Epoch [6240], val_loss: 5708.0439\n",
            "Epoch [6260], val_loss: 5707.5396\n",
            "Epoch [6280], val_loss: 5709.9141\n",
            "Epoch [6300], val_loss: 5708.3730\n",
            "Epoch [6320], val_loss: 5707.4502\n",
            "Epoch [6340], val_loss: 5703.4463\n",
            "Epoch [6360], val_loss: 5703.5591\n",
            "Epoch [6380], val_loss: 5704.1245\n",
            "Epoch [6400], val_loss: 5705.1235\n",
            "Epoch [6420], val_loss: 5702.7495\n",
            "Epoch [6440], val_loss: 5701.4458\n",
            "Epoch [6460], val_loss: 5701.5444\n",
            "Epoch [6480], val_loss: 5703.6821\n",
            "Epoch [6500], val_loss: 5703.7036\n",
            "Epoch [6520], val_loss: 5701.2896\n",
            "Epoch [6540], val_loss: 5700.8037\n",
            "Epoch [6560], val_loss: 5699.3472\n",
            "Epoch [6580], val_loss: 5699.0938\n",
            "Epoch [6600], val_loss: 5699.6924\n",
            "Epoch [6620], val_loss: 5698.4033\n",
            "Epoch [6640], val_loss: 5698.3613\n",
            "Epoch [6660], val_loss: 5697.5957\n",
            "Epoch [6680], val_loss: 5696.8984\n",
            "Epoch [6700], val_loss: 5695.6855\n",
            "Epoch [6720], val_loss: 5695.4761\n",
            "Epoch [6740], val_loss: 5694.7236\n",
            "Epoch [6760], val_loss: 5693.1533\n",
            "Epoch [6780], val_loss: 5693.2178\n",
            "Epoch [6800], val_loss: 5694.9937\n",
            "Epoch [6820], val_loss: 5694.8179\n",
            "Epoch [6840], val_loss: 5694.6421\n",
            "Epoch [6860], val_loss: 5694.4980\n",
            "Epoch [6880], val_loss: 5692.0972\n",
            "Epoch [6900], val_loss: 5691.4233\n",
            "Epoch [6920], val_loss: 5691.3496\n",
            "Epoch [6940], val_loss: 5689.6479\n",
            "Epoch [6960], val_loss: 5690.1064\n",
            "Epoch [6980], val_loss: 5690.5347\n",
            "Epoch [7000], val_loss: 5690.1978\n",
            "Epoch [7020], val_loss: 5690.6514\n",
            "Epoch [7040], val_loss: 5689.4585\n",
            "Epoch [7060], val_loss: 5689.9604\n",
            "Epoch [7080], val_loss: 5689.5581\n",
            "Epoch [7100], val_loss: 5685.9492\n",
            "Epoch [7120], val_loss: 5688.4741\n",
            "Epoch [7140], val_loss: 5685.5830\n",
            "Epoch [7160], val_loss: 5685.8125\n",
            "Epoch [7180], val_loss: 5685.1953\n",
            "Epoch [7200], val_loss: 5685.0708\n",
            "Epoch [7220], val_loss: 5685.2354\n",
            "Epoch [7240], val_loss: 5684.1865\n",
            "Epoch [7260], val_loss: 5689.6597\n",
            "Epoch [7280], val_loss: 5684.4854\n",
            "Epoch [7300], val_loss: 5684.1992\n",
            "Epoch [7320], val_loss: 5682.4199\n",
            "Epoch [7340], val_loss: 5681.9272\n",
            "Epoch [7360], val_loss: 5682.3340\n",
            "Epoch [7380], val_loss: 5681.2251\n",
            "Epoch [7400], val_loss: 5680.1816\n",
            "Epoch [7420], val_loss: 5680.5249\n",
            "Epoch [7440], val_loss: 5679.8081\n",
            "Epoch [7460], val_loss: 5678.7026\n",
            "Epoch [7480], val_loss: 5677.4019\n",
            "Epoch [7500], val_loss: 5678.8291\n",
            "Epoch [7520], val_loss: 5676.9468\n",
            "Epoch [7540], val_loss: 5676.3613\n",
            "Epoch [7560], val_loss: 5682.1792\n",
            "Epoch [7580], val_loss: 5675.8086\n",
            "Epoch [7600], val_loss: 5679.1777\n",
            "Epoch [7620], val_loss: 5675.3579\n",
            "Epoch [7640], val_loss: 5675.2783\n",
            "Epoch [7660], val_loss: 5673.8398\n",
            "Epoch [7680], val_loss: 5674.8120\n",
            "Epoch [7700], val_loss: 5672.3940\n",
            "Epoch [7720], val_loss: 5673.4077\n",
            "Epoch [7740], val_loss: 5673.5361\n",
            "Epoch [7760], val_loss: 5672.3789\n",
            "Epoch [7780], val_loss: 5674.8076\n",
            "Epoch [7800], val_loss: 5671.7012\n",
            "Epoch [7820], val_loss: 5670.5942\n",
            "Epoch [7840], val_loss: 5671.2461\n",
            "Epoch [7860], val_loss: 5671.8931\n",
            "Epoch [7880], val_loss: 5669.6592\n",
            "Epoch [7900], val_loss: 5668.6426\n",
            "Epoch [7920], val_loss: 5669.5942\n",
            "Epoch [7940], val_loss: 5673.1709\n",
            "Epoch [7960], val_loss: 5667.2534\n",
            "Epoch [7980], val_loss: 5667.0747\n",
            "Epoch [8000], val_loss: 5666.8052\n",
            "Epoch [8020], val_loss: 5667.1777\n",
            "Epoch [8040], val_loss: 5666.4146\n",
            "Epoch [8060], val_loss: 5666.0293\n",
            "Epoch [8080], val_loss: 5664.3721\n",
            "Epoch [8100], val_loss: 5663.9561\n",
            "Epoch [8120], val_loss: 5663.6650\n",
            "Epoch [8140], val_loss: 5662.8540\n",
            "Epoch [8160], val_loss: 5663.5107\n",
            "Epoch [8180], val_loss: 5663.5020\n",
            "Epoch [8200], val_loss: 5663.6948\n",
            "Epoch [8220], val_loss: 5661.8916\n",
            "Epoch [8240], val_loss: 5660.2632\n",
            "Epoch [8260], val_loss: 5659.9893\n",
            "Epoch [8280], val_loss: 5659.8140\n",
            "Epoch [8300], val_loss: 5664.5405\n",
            "Epoch [8320], val_loss: 5659.7710\n",
            "Epoch [8340], val_loss: 5660.6592\n",
            "Epoch [8360], val_loss: 5659.6821\n",
            "Epoch [8380], val_loss: 5658.9419\n",
            "Epoch [8400], val_loss: 5657.8354\n",
            "Epoch [8420], val_loss: 5657.6680\n",
            "Epoch [8440], val_loss: 5659.2002\n",
            "Epoch [8460], val_loss: 5656.7739\n",
            "Epoch [8480], val_loss: 5655.8198\n",
            "Epoch [8500], val_loss: 5656.8887\n",
            "Epoch [8520], val_loss: 5656.4141\n",
            "Epoch [8540], val_loss: 5657.7900\n",
            "Epoch [8560], val_loss: 5653.9971\n",
            "Epoch [8580], val_loss: 5655.8955\n",
            "Epoch [8600], val_loss: 5656.0845\n",
            "Epoch [8620], val_loss: 5652.0498\n",
            "Epoch [8640], val_loss: 5650.9526\n",
            "Epoch [8660], val_loss: 5651.9727\n",
            "Epoch [8680], val_loss: 5651.3887\n",
            "Epoch [8700], val_loss: 5651.1875\n",
            "Epoch [8720], val_loss: 5651.5449\n",
            "Epoch [8740], val_loss: 5650.7773\n",
            "Epoch [8760], val_loss: 5650.4194\n",
            "Epoch [8780], val_loss: 5651.8960\n",
            "Epoch [8800], val_loss: 5650.7275\n",
            "Epoch [8820], val_loss: 5647.4453\n",
            "Epoch [8840], val_loss: 5651.9697\n",
            "Epoch [8860], val_loss: 5646.3633\n",
            "Epoch [8880], val_loss: 5646.6733\n",
            "Epoch [8900], val_loss: 5647.1558\n",
            "Epoch [8920], val_loss: 5646.5952\n",
            "Epoch [8940], val_loss: 5645.3696\n",
            "Epoch [8960], val_loss: 5646.6509\n",
            "Epoch [8980], val_loss: 5646.6255\n",
            "Epoch [9000], val_loss: 5644.8130\n",
            "Epoch [9020], val_loss: 5646.6509\n",
            "Epoch [9040], val_loss: 5648.2002\n",
            "Epoch [9060], val_loss: 5641.8955\n",
            "Epoch [9080], val_loss: 5643.8350\n",
            "Epoch [9100], val_loss: 5642.1025\n",
            "Epoch [9120], val_loss: 5641.9502\n",
            "Epoch [9140], val_loss: 5643.1875\n",
            "Epoch [9160], val_loss: 5642.3604\n",
            "Epoch [9180], val_loss: 5639.4863\n",
            "Epoch [9200], val_loss: 5639.0220\n",
            "Epoch [9220], val_loss: 5646.1514\n",
            "Epoch [9240], val_loss: 5639.4106\n",
            "Epoch [9260], val_loss: 5638.3354\n",
            "Epoch [9280], val_loss: 5636.6475\n",
            "Epoch [9300], val_loss: 5637.5312\n",
            "Epoch [9320], val_loss: 5639.5571\n",
            "Epoch [9340], val_loss: 5637.1821\n",
            "Epoch [9360], val_loss: 5642.7988\n",
            "Epoch [9380], val_loss: 5635.2607\n",
            "Epoch [9400], val_loss: 5634.5767\n",
            "Epoch [9420], val_loss: 5637.3652\n",
            "Epoch [9440], val_loss: 5633.9697\n",
            "Epoch [9460], val_loss: 5636.5752\n",
            "Epoch [9480], val_loss: 5632.5107\n",
            "Epoch [9500], val_loss: 5631.7886\n",
            "Epoch [9520], val_loss: 5634.0171\n",
            "Epoch [9540], val_loss: 5631.2417\n",
            "Epoch [9560], val_loss: 5630.3643\n",
            "Epoch [9580], val_loss: 5631.0293\n",
            "Epoch [9600], val_loss: 5630.9463\n",
            "Epoch [9620], val_loss: 5630.7407\n",
            "Epoch [9640], val_loss: 5630.9292\n",
            "Epoch [9660], val_loss: 5629.7021\n",
            "Epoch [9680], val_loss: 5630.2124\n",
            "Epoch [9700], val_loss: 5628.3291\n",
            "Epoch [9720], val_loss: 5628.3296\n",
            "Epoch [9740], val_loss: 5626.8579\n",
            "Epoch [9760], val_loss: 5628.2065\n",
            "Epoch [9780], val_loss: 5625.9380\n",
            "Epoch [9800], val_loss: 5626.1211\n",
            "Epoch [9820], val_loss: 5624.9580\n",
            "Epoch [9840], val_loss: 5624.1592\n",
            "Epoch [9860], val_loss: 5624.8213\n",
            "Epoch [9880], val_loss: 5623.9609\n",
            "Epoch [9900], val_loss: 5623.5708\n",
            "Epoch [9920], val_loss: 5623.6382\n",
            "Epoch [9940], val_loss: 5622.8564\n",
            "Epoch [9960], val_loss: 5622.2051\n",
            "Epoch [9980], val_loss: 5622.0811\n",
            "Epoch [10000], val_loss: 5621.3081\n"
          ],
          "name": "stdout"
        }
      ]
    },
    {
      "cell_type": "code",
      "metadata": {
        "colab": {
          "base_uri": "https://localhost:8080/"
        },
        "id": "bV14TrggE-fz",
        "outputId": "ecd06f55-bb0c-4ca3-bafd-9d8edbe50880"
      },
      "source": [
        "epochs = 500\n",
        "lr = 1e-1\n",
        "history5 = fit(epochs, lr, model, train_loader, val_loader)"
      ],
      "execution_count": null,
      "outputs": [
        {
          "output_type": "stream",
          "text": [
            "Epoch [20], val_loss: 3607.5906\n",
            "Epoch [40], val_loss: 3606.8621\n",
            "Epoch [60], val_loss: 3606.6816\n",
            "Epoch [80], val_loss: 3607.6594\n",
            "Epoch [100], val_loss: 3609.0867\n",
            "Epoch [120], val_loss: 3606.8306\n",
            "Epoch [140], val_loss: 3607.2292\n",
            "Epoch [160], val_loss: 3606.7717\n",
            "Epoch [180], val_loss: 3609.0889\n",
            "Epoch [200], val_loss: 3610.2295\n",
            "Epoch [220], val_loss: 3607.8794\n",
            "Epoch [240], val_loss: 3611.4490\n",
            "Epoch [260], val_loss: 3610.0464\n",
            "Epoch [280], val_loss: 3616.0364\n",
            "Epoch [300], val_loss: 3609.6318\n",
            "Epoch [320], val_loss: 3607.2827\n",
            "Epoch [340], val_loss: 3607.0242\n",
            "Epoch [360], val_loss: 3607.5989\n",
            "Epoch [380], val_loss: 3607.6526\n",
            "Epoch [400], val_loss: 3607.5830\n",
            "Epoch [420], val_loss: 3607.3992\n",
            "Epoch [440], val_loss: 3607.5027\n",
            "Epoch [460], val_loss: 3609.5076\n",
            "Epoch [480], val_loss: 3608.7419\n",
            "Epoch [500], val_loss: 3607.5776\n"
          ],
          "name": "stdout"
        }
      ]
    },
    {
      "cell_type": "markdown",
      "metadata": {
        "id": "bFHTUi0TE-f0"
      },
      "source": [
        "**Q: What is the final validation loss of your model?**"
      ]
    },
    {
      "cell_type": "code",
      "metadata": {
        "id": "2o1Vcm5VE-f0"
      },
      "source": [
        "val_loss = 3607.5776"
      ],
      "execution_count": null,
      "outputs": []
    },
    {
      "cell_type": "markdown",
      "metadata": {
        "id": "dQq2pkevE-f2"
      },
      "source": [
        "## Step 5: Make predictions using the trained model\n",
        "\n",
        "**Q: Complete the following function definition to make predictions on a single input**"
      ]
    },
    {
      "cell_type": "code",
      "metadata": {
        "id": "x0TK3PrAE-f2"
      },
      "source": [
        "def predict_single(input, target, model):\n",
        "    inputs = input.unsqueeze(0)\n",
        "    predictions = model(inputs)                # fill this\n",
        "    prediction = predictions[0].detach()\n",
        "    print(\"Input:\", input)\n",
        "    print(\"Target:\", target)\n",
        "    print(\"Prediction:\", prediction)"
      ],
      "execution_count": null,
      "outputs": []
    },
    {
      "cell_type": "code",
      "metadata": {
        "colab": {
          "base_uri": "https://localhost:8080/"
        },
        "id": "VfhCC3JoE-f2",
        "outputId": "39f40f51-1194-42c2-9260-28982545bbd9"
      },
      "source": [
        "input, target = val_ds[0]\n",
        "predict_single(input, target, model)"
      ],
      "execution_count": null,
      "outputs": [
        {
          "output_type": "stream",
          "text": [
            "Input: tensor([18.0000,  0.0000, 37.9852,  0.0000,  0.0000,  2.0000])\n",
            "Target: tensor([1796.3489])\n",
            "Prediction: tensor([1513.9250])\n"
          ],
          "name": "stdout"
        }
      ]
    },
    {
      "cell_type": "code",
      "metadata": {
        "colab": {
          "base_uri": "https://localhost:8080/"
        },
        "id": "87XkmVoxE-f2",
        "outputId": "feafa7c8-3e5e-4000-c6a2-f18603ae7870"
      },
      "source": [
        "input, target = val_ds[10]\n",
        "predict_single(input, target, model)"
      ],
      "execution_count": null,
      "outputs": [
        {
          "output_type": "stream",
          "text": [
            "Input: tensor([47.0000,  0.0000, 32.3447,  0.0000,  0.0000,  0.0000])\n",
            "Target: tensor([22966.6621])\n",
            "Prediction: tensor([10197.9023])\n"
          ],
          "name": "stdout"
        }
      ]
    },
    {
      "cell_type": "code",
      "metadata": {
        "colab": {
          "base_uri": "https://localhost:8080/"
        },
        "id": "0O3-BzO4E-f3",
        "outputId": "5ca87585-1161-4985-ef17-a09b8278dd79"
      },
      "source": [
        "input, target = val_ds[23]\n",
        "predict_single(input, target, model)"
      ],
      "execution_count": null,
      "outputs": [
        {
          "output_type": "stream",
          "text": [
            "Input: tensor([58.0000,  1.0000, 24.4198,  0.0000,  0.0000,  0.0000])\n",
            "Target: tensor([13124.2373])\n",
            "Prediction: tensor([12844.5830])\n"
          ],
          "name": "stdout"
        }
      ]
    }
  ]
}