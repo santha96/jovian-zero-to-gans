{
  "nbformat": 4,
  "nbformat_minor": 0,
  "metadata": {
    "colab": {
      "name": "01-pytorch-operations.ipynb",
      "provenance": [],
      "collapsed_sections": []
    },
    "kernelspec": {
      "display_name": "Python 3",
      "language": "python",
      "name": "python3"
    },
    "language_info": {
      "codemirror_mode": {
        "name": "ipython",
        "version": 3
      },
      "file_extension": ".py",
      "mimetype": "text/x-python",
      "name": "python",
      "nbconvert_exporter": "python",
      "pygments_lexer": "ipython3",
      "version": "3.8.5"
    }
  },
  "cells": [
    {
      "cell_type": "markdown",
      "metadata": {
        "id": "6oMaMuGtVQ4g"
      },
      "source": [
        "# All you need to know in pytorch :-)\n",
        "\n",
        "An short introduction about PyTorch and about the chosen functions. \n",
        "\n",
        "Pytorch is an open source library which contains data structures for deep learning and uses the scripting language as a wrappers for the same.\n",
        "\n",
        "- arrange\n",
        "\n",
        " Returns one dimensional tensor of size  [end-start/step] which has values ranges from start to end with common difference step taken from the start.\n",
        "- eye\n",
        "\n",
        " torch.eye() returns an identity matrix . An identity matrix is nothing but its diagonal value is 1 .\n",
        "\n",
        "The upper and lower triangle values are zero\n",
        "- reshape\n",
        "\n",
        " torch.reshape() function is used to rearrange elements in the specified size . Inputs are same before and after reshaping . shape only differs after calling function reshape()\n",
        "\n",
        "- add\n",
        "\n",
        "  torch.add() adds the scalar to the each element of input .if alpha is specified ,then it will multiply alpha and scalar and add those value to each element in an input\n",
        "\n",
        "- stack\n",
        "\n",
        "  Concatenates a sequence of tensors along a new dimension.\n",
        "\n",
        "  All tensors need to be of the same size\n",
        "\n",
        "Before we begin, let's install and import PyTorch"
      ]
    },
    {
      "cell_type": "code",
      "metadata": {
        "id": "AJL1PWiSVQ4h"
      },
      "source": [
        "# Uncomment and run the appropriate command for your operating system, if required\n",
        "\n",
        "# Linux / Binder\n",
        "# !pip install numpy torch==1.7.0+cpu torchvision==0.8.1+cpu torchaudio==0.7.0 -f https://download.pytorch.org/whl/torch_stable.html\n",
        "\n",
        "# Windows\n",
        "# !pip install numpy torch==1.7.0+cpu torchvision==0.8.1+cpu torchaudio==0.7.0 -f https://download.pytorch.org/whl/torch_stable.html\n",
        "\n",
        "# MacOS\n",
        "# !pip install numpy torch torchvision torchaudio"
      ],
      "execution_count": null,
      "outputs": []
    },
    {
      "cell_type": "code",
      "metadata": {
        "id": "6CC-c7XpVQ4i"
      },
      "source": [
        "# Import torch and other required modules\n",
        "import torch"
      ],
      "execution_count": null,
      "outputs": []
    },
    {
      "cell_type": "markdown",
      "metadata": {
        "id": "8GCaZFkYVQ4i"
      },
      "source": [
        "## Function 1 - torch.arange() \n",
        "\n",
        "torch.arange(start=0, end, step=1, *, out=None, dtype=None, layout=torch.strided, device=None, requires_grad=False) \n",
        "\n",
        "\n",
        "\n",
        "1.   Function torch.arange() returns a 1D tensor of size [end-start/step] with values ranges from start to end with a common difference step\n",
        "2.  Parameters start -> starting number,\n",
        "end -> end number ,\n",
        "step-> gap between each pair of adajacent points ,\n",
        "out = output tensor , \n",
        "requires_grad -> interested in derivation or not\n"
      ]
    },
    {
      "cell_type": "code",
      "metadata": {
        "colab": {
          "base_uri": "https://localhost:8080/"
        },
        "id": "M38Vl2u9VQ4j",
        "outputId": "627a79a1-2ac4-4893-f3b0-bd9965e311fa"
      },
      "source": [
        "# Example 1 - working (change this)\n",
        "torch.arange(10,100,3.90)"
      ],
      "execution_count": null,
      "outputs": [
        {
          "output_type": "execute_result",
          "data": {
            "text/plain": [
              "tensor([10.0000, 13.9000, 17.8000, 21.7000, 25.6000, 29.5000, 33.4000, 37.3000,\n",
              "        41.2000, 45.1000, 49.0000, 52.9000, 56.8000, 60.7000, 64.6000, 68.5000,\n",
              "        72.4000, 76.3000, 80.2000, 84.1000, 88.0000, 91.9000, 95.8000, 99.7000])"
            ]
          },
          "metadata": {
            "tags": []
          },
          "execution_count": 4
        }
      ]
    },
    {
      "cell_type": "markdown",
      "metadata": {
        "id": "FCq8q3tHVQ4k"
      },
      "source": [
        "Explanation about example\r\n",
        "\r\n",
        "A simple working example to understand how the function arange works . starting number is given as 10 and end as 100 and specified step as 3.90\r\n",
        "\r\n",
        "The vectors displayed contains number starting from number 10 and 3.90 gets added to 10 , then the next number is 13.90.Gap between adajacent number is 3.90 .Displayed all the numbers as a 1D vector starting from 10 with a gap 3.90 and stopped once the number exceeds 100.\r\n",
        "\r\n",
        "size of a vector = [100-10]/3.90 = 24"
      ]
    },
    {
      "cell_type": "code",
      "metadata": {
        "colab": {
          "base_uri": "https://localhost:8080/"
        },
        "id": "QTsIQK35VQ4l",
        "outputId": "f7f960df-43ef-4ca1-c5c3-4f7d37bf9a8f"
      },
      "source": [
        "torch.arange(10,100,3,dtype=float,requires_grad=True)"
      ],
      "execution_count": null,
      "outputs": [
        {
          "output_type": "execute_result",
          "data": {
            "text/plain": [
              "tensor([10., 13., 16., 19., 22., 25., 28., 31., 34., 37., 40., 43., 46., 49.,\n",
              "        52., 55., 58., 61., 64., 67., 70., 73., 76., 79., 82., 85., 88., 91.,\n",
              "        94., 97.], dtype=torch.float64, requires_grad=True)"
            ]
          },
          "metadata": {
            "tags": []
          },
          "execution_count": 6
        }
      ]
    },
    {
      "cell_type": "markdown",
      "metadata": {
        "id": "vaAQg7DZVQ4l"
      },
      "source": [
        "Also, specify dtype as float to get the values in torch.float64 datatype"
      ]
    },
    {
      "cell_type": "code",
      "metadata": {
        "colab": {
          "base_uri": "https://localhost:8080/",
          "height": 186
        },
        "id": "NQFkN61vVQ4m",
        "outputId": "a152d748-0d57-4531-c183-1728a40883da"
      },
      "source": [
        "# Example 3 - breaking (to illustrate when it breaks)\n",
        "torch.arange(10,100,-1,dtype=float,requires_grad=True)"
      ],
      "execution_count": null,
      "outputs": [
        {
          "output_type": "error",
          "ename": "RuntimeError",
          "evalue": "ignored",
          "traceback": [
            "\u001b[0;31m---------------------------------------------------------------------------\u001b[0m",
            "\u001b[0;31mRuntimeError\u001b[0m                              Traceback (most recent call last)",
            "\u001b[0;32m<ipython-input-9-6013ab25c703>\u001b[0m in \u001b[0;36m<module>\u001b[0;34m()\u001b[0m\n\u001b[1;32m      1\u001b[0m \u001b[0;31m# Example 3 - breaking (to illustrate when it breaks)\u001b[0m\u001b[0;34m\u001b[0m\u001b[0;34m\u001b[0m\u001b[0;34m\u001b[0m\u001b[0m\n\u001b[0;32m----> 2\u001b[0;31m \u001b[0mtorch\u001b[0m\u001b[0;34m.\u001b[0m\u001b[0marange\u001b[0m\u001b[0;34m(\u001b[0m\u001b[0;36m10\u001b[0m\u001b[0;34m,\u001b[0m\u001b[0;36m100\u001b[0m\u001b[0;34m,\u001b[0m\u001b[0;34m-\u001b[0m\u001b[0;36m1\u001b[0m\u001b[0;34m,\u001b[0m\u001b[0mdtype\u001b[0m\u001b[0;34m=\u001b[0m\u001b[0mfloat\u001b[0m\u001b[0;34m,\u001b[0m\u001b[0mrequires_grad\u001b[0m\u001b[0;34m=\u001b[0m\u001b[0;32mTrue\u001b[0m\u001b[0;34m)\u001b[0m\u001b[0;34m\u001b[0m\u001b[0;34m\u001b[0m\u001b[0m\n\u001b[0m",
            "\u001b[0;31mRuntimeError\u001b[0m: upper bound and larger bound inconsistent with step sign"
          ]
        }
      ]
    },
    {
      "cell_type": "markdown",
      "metadata": {
        "id": "nvtqu7pPVQ4n"
      },
      "source": [
        "Step value is specified as negative then the lower bound must be greater than upper bound.Careful while using negative step\r\n",
        "\r\n",
        "For eg : torch.arange(10,100,-1,dtype=float,requires_grad=True)"
      ]
    },
    {
      "cell_type": "markdown",
      "metadata": {
        "id": "2oziEjAQVQ4n"
      },
      "source": [
        "arange () function when it is required to create an array of numbers ranges from [start end) with common gap"
      ]
    },
    {
      "cell_type": "markdown",
      "metadata": {
        "id": "6Ugb73WqVQ4o"
      },
      "source": [
        "Let's save our work using Jovian before continuing."
      ]
    },
    {
      "cell_type": "code",
      "metadata": {
        "id": "O0lYa8D-VQ4o"
      },
      "source": [
        "!pip install jovian --upgrade --quiet"
      ],
      "execution_count": null,
      "outputs": []
    },
    {
      "cell_type": "code",
      "metadata": {
        "id": "XH1E_RLZVQ4p"
      },
      "source": [
        "import jovian"
      ],
      "execution_count": null,
      "outputs": []
    },
    {
      "cell_type": "code",
      "metadata": {
        "colab": {
          "base_uri": "https://localhost:8080/",
          "height": 142
        },
        "id": "9rT83srUVQ4p",
        "outputId": "f1a55d9b-2d85-44fe-b5c4-b07e5bdfe1ee"
      },
      "source": [
        "jovian.commit(project='01-tensor-operations')"
      ],
      "execution_count": null,
      "outputs": [
        {
          "output_type": "stream",
          "text": [
            "[jovian] Detected Colab notebook...\u001b[0m\n",
            "[jovian] Please enter your API key ( from https://jovian.ai/ ):\u001b[0m\n",
            "API KEY: ··········\n",
            "[jovian] Uploading colab notebook to Jovian...\u001b[0m\n",
            "[jovian] Capturing environment..\u001b[0m\n",
            "[jovian] Committed successfully! https://jovian.ai/isantha96/01-tensor-operations\u001b[0m\n"
          ],
          "name": "stdout"
        },
        {
          "output_type": "execute_result",
          "data": {
            "application/vnd.google.colaboratory.intrinsic+json": {
              "type": "string"
            },
            "text/plain": [
              "'https://jovian.ai/isantha96/01-tensor-operations'"
            ]
          },
          "metadata": {
            "tags": []
          },
          "execution_count": 12
        }
      ]
    },
    {
      "cell_type": "markdown",
      "metadata": {
        "id": "CgW-c-gUVQ4q"
      },
      "source": [
        "## Function 2 - torch.eye()\n",
        "\n",
        "torch.eye() returns an identity matrix . \n",
        "\n",
        "An identity matrix is nothing but its diagonal value is 1 .\n",
        "\n",
        "The upper and lower triangle values are zero"
      ]
    },
    {
      "cell_type": "code",
      "metadata": {
        "colab": {
          "base_uri": "https://localhost:8080/"
        },
        "id": "jG_y-Mn8VQ4r",
        "outputId": "8641706d-83b3-4a62-fcf8-0312c88c5af7"
      },
      "source": [
        "# Example 1 - working\r\n",
        "torch.eye(5)"
      ],
      "execution_count": null,
      "outputs": [
        {
          "output_type": "execute_result",
          "data": {
            "text/plain": [
              "tensor([[1., 0., 0., 0., 0.],\n",
              "        [0., 1., 0., 0., 0.],\n",
              "        [0., 0., 1., 0., 0.],\n",
              "        [0., 0., 0., 1., 0.],\n",
              "        [0., 0., 0., 0., 1.]])"
            ]
          },
          "metadata": {
            "tags": []
          },
          "execution_count": 18
        }
      ]
    },
    {
      "cell_type": "markdown",
      "metadata": {
        "id": "zOC7zQ6rVQ4r"
      },
      "source": [
        "torch.eye(5) creates an identity matrix of size 5 X 5 .The function takes column as the same value of row if the column isnt specified"
      ]
    },
    {
      "cell_type": "code",
      "metadata": {
        "colab": {
          "base_uri": "https://localhost:8080/"
        },
        "id": "roPiYw3kVQ4r",
        "outputId": "a777ffe7-9c56-4e28-a260-fb8a0005bc79"
      },
      "source": [
        "# Example 2 - working\r\n",
        "torch.eye(3,4)"
      ],
      "execution_count": null,
      "outputs": [
        {
          "output_type": "execute_result",
          "data": {
            "text/plain": [
              "tensor([[1., 0., 0., 0.],\n",
              "        [0., 1., 0., 0.],\n",
              "        [0., 0., 1., 0.]])"
            ]
          },
          "metadata": {
            "tags": []
          },
          "execution_count": 20
        }
      ]
    },
    {
      "cell_type": "markdown",
      "metadata": {
        "id": "-B1t6-DUVQ4s"
      },
      "source": [
        "Also,specify columns to have the output of desired size"
      ]
    },
    {
      "cell_type": "code",
      "metadata": {
        "colab": {
          "base_uri": "https://localhost:8080/",
          "height": 186
        },
        "id": "c7woSLnAVQ4s",
        "outputId": "0c49bf9b-23ac-410c-f141-5deee5ad0472"
      },
      "source": [
        "# Example 3 - breaking (to illustrate when it breaks)\r\n",
        "torch.eye(-1)"
      ],
      "execution_count": null,
      "outputs": [
        {
          "output_type": "error",
          "ename": "RuntimeError",
          "evalue": "ignored",
          "traceback": [
            "\u001b[0;31m---------------------------------------------------------------------------\u001b[0m",
            "\u001b[0;31mRuntimeError\u001b[0m                              Traceback (most recent call last)",
            "\u001b[0;32m<ipython-input-21-dfb6ec5b8b8b>\u001b[0m in \u001b[0;36m<module>\u001b[0;34m()\u001b[0m\n\u001b[1;32m      1\u001b[0m \u001b[0;31m# Example 3 - breaking (to illustrate when it breaks)\u001b[0m\u001b[0;34m\u001b[0m\u001b[0;34m\u001b[0m\u001b[0;34m\u001b[0m\u001b[0m\n\u001b[0;32m----> 2\u001b[0;31m \u001b[0mtorch\u001b[0m\u001b[0;34m.\u001b[0m\u001b[0meye\u001b[0m\u001b[0;34m(\u001b[0m\u001b[0;34m-\u001b[0m\u001b[0;36m1\u001b[0m\u001b[0;34m)\u001b[0m\u001b[0;34m\u001b[0m\u001b[0;34m\u001b[0m\u001b[0m\n\u001b[0m",
            "\u001b[0;31mRuntimeError\u001b[0m: n must be greater or equal to 0, got -1"
          ]
        }
      ]
    },
    {
      "cell_type": "markdown",
      "metadata": {
        "id": "IpJm_jAFVQ4t"
      },
      "source": [
        "Matrix dimensions should be positive.Here specified row as negative so it resulted in an error"
      ]
    },
    {
      "cell_type": "markdown",
      "metadata": {
        "id": "o9IYqovWVQ4t"
      },
      "source": [
        "eye() function is useful when we want to create an identity matrix"
      ]
    },
    {
      "cell_type": "code",
      "metadata": {
        "colab": {
          "base_uri": "https://localhost:8080/",
          "height": 107
        },
        "id": "guW3ya-cVQ4t",
        "outputId": "4d28d5c6-b1c5-4eb1-9cda-94f2bb9aeab5"
      },
      "source": [
        "jovian.commit(project='01-tensor-operations')"
      ],
      "execution_count": null,
      "outputs": [
        {
          "output_type": "stream",
          "text": [
            "[jovian] Detected Colab notebook...\u001b[0m\n",
            "[jovian] Uploading colab notebook to Jovian...\u001b[0m\n",
            "[jovian] Capturing environment..\u001b[0m\n",
            "[jovian] Committed successfully! https://jovian.ai/isantha96/01-tensor-operations\u001b[0m\n"
          ],
          "name": "stdout"
        },
        {
          "output_type": "execute_result",
          "data": {
            "application/vnd.google.colaboratory.intrinsic+json": {
              "type": "string"
            },
            "text/plain": [
              "'https://jovian.ai/isantha96/01-tensor-operations'"
            ]
          },
          "metadata": {
            "tags": []
          },
          "execution_count": 22
        }
      ]
    },
    {
      "cell_type": "markdown",
      "metadata": {
        "id": "hMmmqfoFVQ4u"
      },
      "source": [
        "## Function 3 - torch.reshape\n",
        "\n",
        "torch.reshape() function is used to rearrange elements in the specified size . Inputs are same before and after reshaping . shape only differs after calling function reshape()"
      ]
    },
    {
      "cell_type": "code",
      "metadata": {
        "colab": {
          "base_uri": "https://localhost:8080/"
        },
        "id": "2UBTnTZTVQ4u",
        "outputId": "635e4a93-c6db-4f96-c5d7-6f0ee87876fa"
      },
      "source": [
        "# Example 1 - working\r\n",
        "torch.reshape(torch.arange(4),(2,2))\r\n"
      ],
      "execution_count": null,
      "outputs": [
        {
          "output_type": "execute_result",
          "data": {
            "text/plain": [
              "tensor([[0, 1],\n",
              "        [2, 3]])"
            ]
          },
          "metadata": {
            "tags": []
          },
          "execution_count": 25
        }
      ]
    },
    {
      "cell_type": "markdown",
      "metadata": {
        "id": "sijKOMT4VQ4v"
      },
      "source": [
        "torch.arange() function returns 1D vector of size 1X4 . Reshape this 1X4 array as 2 x 2 using reshape function.The inputs are same (0,1,2,3) but the shape alone changes to 2x2 as mentioned in the function ."
      ]
    },
    {
      "cell_type": "code",
      "metadata": {
        "colab": {
          "base_uri": "https://localhost:8080/"
        },
        "id": "DJVzh_b3VQ4v",
        "outputId": "db28d6c0-cfdc-4df0-966d-12adffeb1757"
      },
      "source": [
        "# Example 2 - working\r\n",
        "torch.reshape(torch.tensor([[1,2,3],[4,5,6],[7,8,9]]),(-1,))"
      ],
      "execution_count": null,
      "outputs": [
        {
          "output_type": "execute_result",
          "data": {
            "text/plain": [
              "tensor([1, 2, 3, 4, 5, 6, 7, 8, 9])"
            ]
          },
          "metadata": {
            "tags": []
          },
          "execution_count": 30
        }
      ]
    },
    {
      "cell_type": "markdown",
      "metadata": {
        "id": "Aq4ZTNfsVQ4w"
      },
      "source": [
        "Also , reshape the 2D vector as 1D vector using reshape function .\r\n",
        "\r\n",
        "First created the 2D tensor vector using torch.tensor function and then reshape it as 1D by specifying (-1,)"
      ]
    },
    {
      "cell_type": "code",
      "metadata": {
        "colab": {
          "base_uri": "https://localhost:8080/",
          "height": 186
        },
        "id": "ABo6Zvd3VQ4w",
        "outputId": "a799f8e9-7084-4880-e577-cb921c3e4ee5"
      },
      "source": [
        "# Example 3 - breaking (to illustrate when it breaks)\r\n",
        "torch.reshape(torch.arange(4),(2,3))"
      ],
      "execution_count": null,
      "outputs": [
        {
          "output_type": "error",
          "ename": "RuntimeError",
          "evalue": "ignored",
          "traceback": [
            "\u001b[0;31m---------------------------------------------------------------------------\u001b[0m",
            "\u001b[0;31mRuntimeError\u001b[0m                              Traceback (most recent call last)",
            "\u001b[0;32m<ipython-input-31-460be2be3b5a>\u001b[0m in \u001b[0;36m<module>\u001b[0;34m()\u001b[0m\n\u001b[1;32m      1\u001b[0m \u001b[0;31m# Example 3 - breaking (to illustrate when it breaks)\u001b[0m\u001b[0;34m\u001b[0m\u001b[0;34m\u001b[0m\u001b[0;34m\u001b[0m\u001b[0m\n\u001b[0;32m----> 2\u001b[0;31m \u001b[0mtorch\u001b[0m\u001b[0;34m.\u001b[0m\u001b[0mreshape\u001b[0m\u001b[0;34m(\u001b[0m\u001b[0mtorch\u001b[0m\u001b[0;34m.\u001b[0m\u001b[0marange\u001b[0m\u001b[0;34m(\u001b[0m\u001b[0;36m4\u001b[0m\u001b[0;34m)\u001b[0m\u001b[0;34m,\u001b[0m\u001b[0;34m(\u001b[0m\u001b[0;36m2\u001b[0m\u001b[0;34m,\u001b[0m\u001b[0;36m3\u001b[0m\u001b[0;34m)\u001b[0m\u001b[0;34m)\u001b[0m\u001b[0;34m\u001b[0m\u001b[0;34m\u001b[0m\u001b[0m\n\u001b[0m",
            "\u001b[0;31mRuntimeError\u001b[0m: shape '[2, 3]' is invalid for input of size 4"
          ]
        }
      ]
    },
    {
      "cell_type": "markdown",
      "metadata": {
        "id": "uU4sWIxPVQ4x"
      },
      "source": [
        "Specifying dimensions inside reshape functions require little math to know.\r\n",
        "\r\n",
        "The number of elements in matrix is equal to (number of row * number of column)\r\n",
        "\r\n",
        "In our case , the number of elements are 4 , wanted to reshape it as 2x3\r\n",
        "\r\n",
        "2x3 matrix requires 6 elements so it resulted in an error\r\n",
        "\r\n"
      ]
    },
    {
      "cell_type": "markdown",
      "metadata": {
        "id": "-qQkAg9RVQ4x"
      },
      "source": [
        "Obviously , reshape is an useful function . Its used during training ML/DL models . "
      ]
    },
    {
      "cell_type": "code",
      "metadata": {
        "colab": {
          "base_uri": "https://localhost:8080/",
          "height": 107
        },
        "id": "jiboE-bPVQ4y",
        "outputId": "224fee3b-44df-4edb-ba03-67d78012dac6"
      },
      "source": [
        "jovian.commit(project='01-tensor-operations')"
      ],
      "execution_count": null,
      "outputs": [
        {
          "output_type": "stream",
          "text": [
            "[jovian] Detected Colab notebook...\u001b[0m\n",
            "[jovian] Uploading colab notebook to Jovian...\u001b[0m\n",
            "[jovian] Capturing environment..\u001b[0m\n",
            "[jovian] Committed successfully! https://jovian.ai/isantha96/01-tensor-operations\u001b[0m\n"
          ],
          "name": "stdout"
        },
        {
          "output_type": "execute_result",
          "data": {
            "application/vnd.google.colaboratory.intrinsic+json": {
              "type": "string"
            },
            "text/plain": [
              "'https://jovian.ai/isantha96/01-tensor-operations'"
            ]
          },
          "metadata": {
            "tags": []
          },
          "execution_count": 32
        }
      ]
    },
    {
      "cell_type": "markdown",
      "metadata": {
        "id": "G4DBgo5BVQ4y"
      },
      "source": [
        "## Function 4 - torch.add()\n",
        "\n",
        "Adds the scalar other to each element of the input and returns a new resulting tensor.\n",
        "\n",
        "\n",
        "out=input+alpha * other  (alpha by default is 1)\n",
        "\n",
        "If input is of type FloatTensor or DoubleTensor, other must be a real number, otherwise it should be an integer."
      ]
    },
    {
      "cell_type": "code",
      "metadata": {
        "colab": {
          "base_uri": "https://localhost:8080/"
        },
        "id": "ZPaFS4FOVQ4z",
        "outputId": "d6b0889c-dc3b-4714-e028-db0803234b0f"
      },
      "source": [
        "# Example 1 - working\r\n",
        "torch.add(torch.tensor([[1,2],[3,4]]),4)"
      ],
      "execution_count": null,
      "outputs": [
        {
          "output_type": "execute_result",
          "data": {
            "text/plain": [
              "tensor([[5, 6],\n",
              "        [7, 8]])"
            ]
          },
          "metadata": {
            "tags": []
          },
          "execution_count": 33
        }
      ]
    },
    {
      "cell_type": "markdown",
      "metadata": {
        "id": "Wysh1XIuVQ4z"
      },
      "source": [
        "torch.add() function add the value 4 to the existing matrix \r\n",
        "\r\n",
        "input : \r\n",
        "\r\n",
        "[1 2\r\n",
        "\r\n",
        "3  4]\r\n",
        "\r\n",
        "Scalar specified : 4 \r\n",
        "\r\n",
        "alpha : 1\r\n",
        "\r\n",
        "other : Scalar * alpha : 4\r\n",
        "\r\n",
        "output :\r\n",
        "\r\n",
        "[5 6 \r\n",
        "\r\n",
        "7 8 ]\r\n",
        "\r\n"
      ]
    },
    {
      "cell_type": "code",
      "metadata": {
        "colab": {
          "base_uri": "https://localhost:8080/"
        },
        "id": "4rsDyExNVQ4z",
        "outputId": "3732d38e-64a7-4d43-8447-ff01efe2c210"
      },
      "source": [
        "# Example 2 - working\r\n",
        "torch.add(torch.tensor([[1,2],[3,4]]),4,alpha=2)"
      ],
      "execution_count": null,
      "outputs": [
        {
          "output_type": "execute_result",
          "data": {
            "text/plain": [
              "tensor([[ 9, 10],\n",
              "        [11, 12]])"
            ]
          },
          "metadata": {
            "tags": []
          },
          "execution_count": 35
        }
      ]
    },
    {
      "cell_type": "markdown",
      "metadata": {
        "id": "lguCso_0VQ40"
      },
      "source": [
        "torch.add() function add the value (4*2) to the existing matrix \r\n",
        "\r\n",
        "input : \r\n",
        "\r\n",
        "[1 2\r\n",
        "\r\n",
        "3  4]\r\n",
        "\r\n",
        "Scalar specified : 4 \r\n",
        "\r\n",
        "alpha : 2\r\n",
        "\r\n",
        "other : scalar*alpha\r\n",
        "\r\n",
        "output :\r\n",
        "\r\n",
        "[9 10 \r\n",
        "\r\n",
        "11 12 ]"
      ]
    },
    {
      "cell_type": "code",
      "metadata": {
        "colab": {
          "base_uri": "https://localhost:8080/",
          "height": 186
        },
        "id": "-fDYKuioVQ40",
        "outputId": "24498ae2-a40c-4605-9e49-52aecfea0433"
      },
      "source": [
        "# Example 3 - breaking (to illustrate when it breaks)\r\n",
        "torch.add(torch.tensor([[1,2],[3,4]]),torch.tensor([1,2,3]),alpha=2)\r\n"
      ],
      "execution_count": null,
      "outputs": [
        {
          "output_type": "error",
          "ename": "RuntimeError",
          "evalue": "ignored",
          "traceback": [
            "\u001b[0;31m---------------------------------------------------------------------------\u001b[0m",
            "\u001b[0;31mRuntimeError\u001b[0m                              Traceback (most recent call last)",
            "\u001b[0;32m<ipython-input-46-488fca940e7e>\u001b[0m in \u001b[0;36m<module>\u001b[0;34m()\u001b[0m\n\u001b[1;32m      1\u001b[0m \u001b[0;31m# Example 3 - breaking (to illustrate when it breaks)\u001b[0m\u001b[0;34m\u001b[0m\u001b[0;34m\u001b[0m\u001b[0;34m\u001b[0m\u001b[0m\n\u001b[0;32m----> 2\u001b[0;31m \u001b[0mtorch\u001b[0m\u001b[0;34m.\u001b[0m\u001b[0madd\u001b[0m\u001b[0;34m(\u001b[0m\u001b[0mtorch\u001b[0m\u001b[0;34m.\u001b[0m\u001b[0mtensor\u001b[0m\u001b[0;34m(\u001b[0m\u001b[0;34m[\u001b[0m\u001b[0;34m[\u001b[0m\u001b[0;36m1\u001b[0m\u001b[0;34m,\u001b[0m\u001b[0;36m2\u001b[0m\u001b[0;34m]\u001b[0m\u001b[0;34m,\u001b[0m\u001b[0;34m[\u001b[0m\u001b[0;36m3\u001b[0m\u001b[0;34m,\u001b[0m\u001b[0;36m4\u001b[0m\u001b[0;34m]\u001b[0m\u001b[0;34m]\u001b[0m\u001b[0;34m)\u001b[0m\u001b[0;34m,\u001b[0m\u001b[0mtorch\u001b[0m\u001b[0;34m.\u001b[0m\u001b[0mtensor\u001b[0m\u001b[0;34m(\u001b[0m\u001b[0;34m[\u001b[0m\u001b[0;36m1\u001b[0m\u001b[0;34m,\u001b[0m\u001b[0;36m2\u001b[0m\u001b[0;34m,\u001b[0m\u001b[0;36m3\u001b[0m\u001b[0;34m]\u001b[0m\u001b[0;34m)\u001b[0m\u001b[0;34m,\u001b[0m\u001b[0malpha\u001b[0m\u001b[0;34m=\u001b[0m\u001b[0;36m2\u001b[0m\u001b[0;34m)\u001b[0m\u001b[0;34m\u001b[0m\u001b[0;34m\u001b[0m\u001b[0m\n\u001b[0m",
            "\u001b[0;31mRuntimeError\u001b[0m: The size of tensor a (2) must match the size of tensor b (3) at non-singleton dimension 1"
          ]
        }
      ]
    },
    {
      "cell_type": "markdown",
      "metadata": {
        "id": "MS9Ie0pmVQ40"
      },
      "source": [
        "Adding two matrices require both matrix size to be same dimension"
      ]
    },
    {
      "cell_type": "markdown",
      "metadata": {
        "id": "48wG7qxDVQ41"
      },
      "source": [
        "torch.add() function is used when its required add scalar to the matrix"
      ]
    },
    {
      "cell_type": "code",
      "metadata": {
        "colab": {
          "base_uri": "https://localhost:8080/",
          "height": 107
        },
        "id": "uOF75e1dVQ41",
        "outputId": "6272f253-ae3f-41e1-ac55-e6ec2711d80f"
      },
      "source": [
        "jovian.commit(project='01-tensor-operations')"
      ],
      "execution_count": null,
      "outputs": [
        {
          "output_type": "stream",
          "text": [
            "[jovian] Detected Colab notebook...\u001b[0m\n",
            "[jovian] Uploading colab notebook to Jovian...\u001b[0m\n",
            "[jovian] Capturing environment..\u001b[0m\n",
            "[jovian] Committed successfully! https://jovian.ai/isantha96/01-tensor-operations\u001b[0m\n"
          ],
          "name": "stdout"
        },
        {
          "output_type": "execute_result",
          "data": {
            "application/vnd.google.colaboratory.intrinsic+json": {
              "type": "string"
            },
            "text/plain": [
              "'https://jovian.ai/isantha96/01-tensor-operations'"
            ]
          },
          "metadata": {
            "tags": []
          },
          "execution_count": 47
        }
      ]
    },
    {
      "cell_type": "markdown",
      "metadata": {
        "id": "h-jwzdSGVQ42"
      },
      "source": [
        "## Function 5 - torch.stack()\n",
        "\n",
        "Concatenates a sequence of tensors along a new dimension.\n",
        "\n",
        "All tensors need to be of the same size"
      ]
    },
    {
      "cell_type": "code",
      "metadata": {
        "colab": {
          "base_uri": "https://localhost:8080/"
        },
        "id": "PzfBUNXGVQ42",
        "outputId": "a08df26d-69a3-4e71-dd88-c921ae4de802"
      },
      "source": [
        "# Example 1 - working\r\n",
        "a= torch.tensor([[1,2],[3,4]])\r\n",
        "b = torch.tensor([[5,6],[7,8]])\r\n",
        "torch.stack([a,b],dim=2)"
      ],
      "execution_count": null,
      "outputs": [
        {
          "output_type": "execute_result",
          "data": {
            "text/plain": [
              "tensor([[[1, 5],\n",
              "         [2, 6]],\n",
              "\n",
              "        [[3, 7],\n",
              "         [4, 8]]])"
            ]
          },
          "metadata": {
            "tags": []
          },
          "execution_count": 49
        }
      ]
    },
    {
      "cell_type": "markdown",
      "metadata": {
        "id": "vDDovVJCVQ43"
      },
      "source": [
        "In this example , there are two tensors of size 2x2 . stack() is used to stack two tensors of given dimension\r\n",
        "\r\n",
        "input :\r\n",
        "\r\n",
        "Tensor a :\r\n",
        "\r\n",
        "[1, 2],\r\n",
        "\r\n",
        "[3, 4]\r\n",
        "\r\n",
        "Tensor b :\r\n",
        "\r\n",
        "[5, 6],\r\n",
        "\r\n",
        "[7, 8]\r\n",
        "\r\n",
        "stack a b :\r\n",
        "\r\n",
        "If the dimension is zero , it ll concatenate two matrices.\r\n",
        "\r\n",
        "[[1, 2]\r\n",
        "\r\n",
        "[3, 4]],\r\n",
        "\r\n",
        "[5, 6],\r\n",
        "\r\n",
        "[7, 8]]\r\n",
        "\r\n",
        "If the dimension is one , it ll append rowwise.\r\n",
        "\r\n",
        "first row of a followed by followed by first row of b .second row of a then b\r\n",
        "\r\n",
        "[[[1, 2],\r\n",
        "\r\n",
        "[5, 6]],\r\n",
        "\r\n",
        "[[3, 4],\r\n",
        "\r\n",
        "[7, 8]]]\r\n",
        "\r\n",
        "If the dimension is two , it ll append columnwise\r\n",
        "\r\n",
        "\r\n",
        "\r\n",
        "[1 5],\r\n",
        "\r\n",
        "[2 6],\r\n",
        "\r\n",
        "[3,7]\r\n",
        "\r\n",
        "[4,8]\r\n",
        "\r\n",
        "\r\n",
        "\r\n",
        "\r\n"
      ]
    },
    {
      "cell_type": "code",
      "metadata": {
        "colab": {
          "base_uri": "https://localhost:8080/"
        },
        "id": "3egibD9sVQ43",
        "outputId": "8bc91387-2ea9-462c-a173-4fedcaf8327f"
      },
      "source": [
        "# Example 2 - working\r\n",
        "a= torch.tensor([[1,2],[3,4]])\r\n",
        "b = torch.tensor([[5,6],[7,8]])\r\n",
        "torch.stack([a,b],dim=0)"
      ],
      "execution_count": null,
      "outputs": [
        {
          "output_type": "execute_result",
          "data": {
            "text/plain": [
              "tensor([[[1, 2],\n",
              "         [3, 4]],\n",
              "\n",
              "        [[5, 6],\n",
              "         [7, 8]]])"
            ]
          },
          "metadata": {
            "tags": []
          },
          "execution_count": 58
        }
      ]
    },
    {
      "cell_type": "markdown",
      "metadata": {
        "id": "fLAXZAvKVQ44"
      },
      "source": [
        "dim = 0 , it concatenates two matrices"
      ]
    },
    {
      "cell_type": "code",
      "metadata": {
        "colab": {
          "base_uri": "https://localhost:8080/",
          "height": 221
        },
        "id": "qcLGIrvgVQ44",
        "outputId": "a77b04fe-a89a-4413-b982-5413bd9c8f26"
      },
      "source": [
        "# Example 3 - breaking (to illustrate when it breaks)\r\n",
        "a= torch.tensor([[1,2],[3,4]])\r\n",
        "b = torch.tensor([[5,6,7],[7,8]])\r\n",
        "torch.stack([a,b],dim=2)"
      ],
      "execution_count": null,
      "outputs": [
        {
          "output_type": "error",
          "ename": "ValueError",
          "evalue": "ignored",
          "traceback": [
            "\u001b[0;31m---------------------------------------------------------------------------\u001b[0m",
            "\u001b[0;31mValueError\u001b[0m                                Traceback (most recent call last)",
            "\u001b[0;32m<ipython-input-59-aff8ab40ce22>\u001b[0m in \u001b[0;36m<module>\u001b[0;34m()\u001b[0m\n\u001b[1;32m      1\u001b[0m \u001b[0;31m# Example 3 - breaking (to illustrate when it breaks)\u001b[0m\u001b[0;34m\u001b[0m\u001b[0;34m\u001b[0m\u001b[0;34m\u001b[0m\u001b[0m\n\u001b[1;32m      2\u001b[0m \u001b[0ma\u001b[0m\u001b[0;34m=\u001b[0m \u001b[0mtorch\u001b[0m\u001b[0;34m.\u001b[0m\u001b[0mtensor\u001b[0m\u001b[0;34m(\u001b[0m\u001b[0;34m[\u001b[0m\u001b[0;34m[\u001b[0m\u001b[0;36m1\u001b[0m\u001b[0;34m,\u001b[0m\u001b[0;36m2\u001b[0m\u001b[0;34m]\u001b[0m\u001b[0;34m,\u001b[0m\u001b[0;34m[\u001b[0m\u001b[0;36m3\u001b[0m\u001b[0;34m,\u001b[0m\u001b[0;36m4\u001b[0m\u001b[0;34m]\u001b[0m\u001b[0;34m]\u001b[0m\u001b[0;34m)\u001b[0m\u001b[0;34m\u001b[0m\u001b[0;34m\u001b[0m\u001b[0m\n\u001b[0;32m----> 3\u001b[0;31m \u001b[0mb\u001b[0m \u001b[0;34m=\u001b[0m \u001b[0mtorch\u001b[0m\u001b[0;34m.\u001b[0m\u001b[0mtensor\u001b[0m\u001b[0;34m(\u001b[0m\u001b[0;34m[\u001b[0m\u001b[0;34m[\u001b[0m\u001b[0;36m5\u001b[0m\u001b[0;34m,\u001b[0m\u001b[0;36m6\u001b[0m\u001b[0;34m,\u001b[0m\u001b[0;36m7\u001b[0m\u001b[0;34m]\u001b[0m\u001b[0;34m,\u001b[0m\u001b[0;34m[\u001b[0m\u001b[0;36m7\u001b[0m\u001b[0;34m,\u001b[0m\u001b[0;36m8\u001b[0m\u001b[0;34m]\u001b[0m\u001b[0;34m]\u001b[0m\u001b[0;34m)\u001b[0m\u001b[0;34m\u001b[0m\u001b[0;34m\u001b[0m\u001b[0m\n\u001b[0m\u001b[1;32m      4\u001b[0m \u001b[0mtorch\u001b[0m\u001b[0;34m.\u001b[0m\u001b[0mstack\u001b[0m\u001b[0;34m(\u001b[0m\u001b[0;34m[\u001b[0m\u001b[0ma\u001b[0m\u001b[0;34m,\u001b[0m\u001b[0mb\u001b[0m\u001b[0;34m]\u001b[0m\u001b[0;34m,\u001b[0m\u001b[0mdim\u001b[0m\u001b[0;34m=\u001b[0m\u001b[0;36m2\u001b[0m\u001b[0;34m)\u001b[0m\u001b[0;34m\u001b[0m\u001b[0;34m\u001b[0m\u001b[0m\n",
            "\u001b[0;31mValueError\u001b[0m: expected sequence of length 3 at dim 1 (got 2)"
          ]
        }
      ]
    },
    {
      "cell_type": "markdown",
      "metadata": {
        "id": "Y_2Pv_QkVQ44"
      },
      "source": [
        "Stack requires two matrix dimensions must be same"
      ]
    },
    {
      "cell_type": "markdown",
      "metadata": {
        "id": "h34pDZxNVQ45"
      },
      "source": [
        "torch.stack() function is used when its required to create new matrix with two same matrix of new dimension."
      ]
    },
    {
      "cell_type": "code",
      "metadata": {
        "colab": {
          "base_uri": "https://localhost:8080/",
          "height": 107
        },
        "id": "x9FLtA5sVQ45",
        "outputId": "214eb22f-162a-4790-bc26-8849730ff759"
      },
      "source": [
        "jovian.commit(project='01-tensor-operations')"
      ],
      "execution_count": null,
      "outputs": [
        {
          "output_type": "stream",
          "text": [
            "[jovian] Detected Colab notebook...\u001b[0m\n",
            "[jovian] Uploading colab notebook to Jovian...\u001b[0m\n",
            "[jovian] Capturing environment..\u001b[0m\n",
            "[jovian] Committed successfully! https://jovian.ai/isantha96/01-tensor-operations\u001b[0m\n"
          ],
          "name": "stdout"
        },
        {
          "output_type": "execute_result",
          "data": {
            "application/vnd.google.colaboratory.intrinsic+json": {
              "type": "string"
            },
            "text/plain": [
              "'https://jovian.ai/isantha96/01-tensor-operations'"
            ]
          },
          "metadata": {
            "tags": []
          },
          "execution_count": 60
        }
      ]
    },
    {
      "cell_type": "markdown",
      "metadata": {
        "id": "okO-Xwy5VQ46"
      },
      "source": [
        "## Conclusion\n",
        "\n",
        "Summarize what was covered in this notebook, and where to go next\n",
        "\n",
        "In this notebook, we saw five useful functions in pytorch and explore more functions in the documentation"
      ]
    },
    {
      "cell_type": "markdown",
      "metadata": {
        "id": "XPlKLmA_VQ46"
      },
      "source": [
        "## Reference Links\n",
        "Provide links to your references and other interesting articles about tensors\n",
        "* Official documentation for tensor operations: https://pytorch.org/docs/stable/torch.html\n",
        "* ..."
      ]
    }
  ]
}